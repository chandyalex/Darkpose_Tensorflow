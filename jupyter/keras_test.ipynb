{
 "cells": [
  {
   "cell_type": "code",
   "execution_count": 1,
   "id": "92f4f384",
   "metadata": {},
   "outputs": [],
   "source": [
    "import numpy as np\n",
    "import sys\n",
    "sys.path.append('/home/chandy/gsoc/Darkpose_Tensorflow/lib/')\n",
    "import tensorflow as tf\n",
    "# from tensorflow.python.framework.ops import disable_eager_execution\n",
    "# disable_eager_execution()\n"
   ]
  },
  {
   "cell_type": "code",
   "execution_count": 2,
   "id": "8532412c",
   "metadata": {},
   "outputs": [],
   "source": [
    "\n",
    "from data import coco\n",
    "from data import coco_data\n",
    "from config import cfg\n",
    "from core.loss import JointsMSELoss,JointsOHKMMSELoss,dice_loss\n",
    "from models import pose_resnet\n",
    "from core.evaluation import accuracy\n",
    "\n"
   ]
  },
  {
   "cell_type": "code",
   "execution_count": 3,
   "id": "ea63ab0a",
   "metadata": {},
   "outputs": [
    {
     "name": "stdout",
     "output_type": "stream",
     "text": [
      "loading annotations into memory...\n",
      "Done (t=5.61s)\n",
      "creating index...\n",
      "index created!\n",
      "loading annotations into memory...\n",
      "Done (t=5.28s)\n",
      "creating index...\n",
      "index created!\n"
     ]
    }
   ],
   "source": [
    "\n",
    "data_gen = coco.COCODataset(cfg, cfg.DATASET.ROOT, cfg.DATASET.TRAIN_SET, True)\n",
    "\n"
   ]
  },
  {
   "cell_type": "code",
   "execution_count": 4,
   "id": "d8a22852",
   "metadata": {},
   "outputs": [
    {
     "name": "stdout",
     "output_type": "stream",
     "text": [
      "Model: \"pose_res_net\"\n",
      "_________________________________________________________________\n",
      "Layer (type)                 Output Shape              Param #   \n",
      "=================================================================\n",
      "conv2d (Conv2D)              multiple                  9472      \n",
      "_________________________________________________________________\n",
      "batch_normalization (BatchNo multiple                  256       \n",
      "_________________________________________________________________\n",
      "re_lu (ReLU)                 multiple                  0         \n",
      "_________________________________________________________________\n",
      "max_pooling2d (MaxPooling2D) multiple                  0         \n",
      "_________________________________________________________________\n",
      "sequential_1 (Sequential)    (None, 64, 64, 256)       218624    \n",
      "_________________________________________________________________\n",
      "sequential_3 (Sequential)    (None, 32, 32, 512)       1226752   \n",
      "_________________________________________________________________\n",
      "sequential_5 (Sequential)    (None, 16, 16, 1024)      7118848   \n",
      "_________________________________________________________________\n",
      "sequential_7 (Sequential)    (None, 8, 8, 2048)        14987264  \n",
      "_________________________________________________________________\n",
      "sequential_8 (Sequential)    (None, 64, 64, 256)       10488832  \n",
      "_________________________________________________________________\n",
      "conv2d_53 (Conv2D)           multiple                  4369      \n",
      "=================================================================\n",
      "Total params: 34,054,417\n",
      "Trainable params: 33,954,321\n",
      "Non-trainable params: 100,096\n",
      "_________________________________________________________________\n",
      "Epoch 1/2\n",
      "3696/3696 [==============================] - 5327s 1s/step - loss: 6.4603e-04 - accuracy: 0.6833\n",
      "Epoch 2/2\n",
      "3696/3696 [==============================] - 5190s 1s/step - loss: 6.3791e-04 - accuracy: 0.6844\n"
     ]
    },
    {
     "data": {
      "text/plain": [
       "<tensorflow.python.keras.callbacks.History at 0x7f8e867c9b10>"
      ]
     },
     "execution_count": 4,
     "metadata": {},
     "output_type": "execute_result"
    }
   ],
   "source": [
    "\n",
    "model= pose_resnet.get_pose_net(\n",
    "        cfg, is_train=True\n",
    "    )\n",
    "model.build(input_shape=(None,256, 256, 3))\n",
    "\n",
    "model.compile(loss=JointsMSELoss, optimizer='SGD',run_eagerly=True,metrics=accuracy)\n",
    "model.summary()\n",
    "model.fit(data_gen,epochs=2)"
   ]
  }
 ],
 "metadata": {
  "kernelspec": {
   "display_name": "Python 3",
   "language": "python",
   "name": "python3"
  },
  "language_info": {
   "codemirror_mode": {
    "name": "ipython",
    "version": 3
   },
   "file_extension": ".py",
   "mimetype": "text/x-python",
   "name": "python",
   "nbconvert_exporter": "python",
   "pygments_lexer": "ipython3",
   "version": "3.7.9"
  }
 },
 "nbformat": 4,
 "nbformat_minor": 5
}
