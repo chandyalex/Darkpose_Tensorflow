{
 "cells": [
  {
   "cell_type": "code",
   "execution_count": 1,
   "id": "92f4f384",
   "metadata": {},
   "outputs": [],
   "source": [
    "import numpy as np\n",
    "import sys\n",
    "sys.path.append('/home/chandy/gsoc/Darkpose_Tensorflow/lib/')\n",
    "from tensorflow.python.framework.ops import disable_eager_execution\n",
    "disable_eager_execution()\n"
   ]
  },
  {
   "cell_type": "code",
   "execution_count": 2,
   "id": "8532412c",
   "metadata": {},
   "outputs": [],
   "source": [
    "\n",
    "import tensorflow as tf\n",
    "from data.dataset_joint import JointsDataset\n",
    "from data import coco\n",
    "from data import coco_data\n",
    "from config import cfg\n",
    "\n",
    "from keras.losses import categorical_crossentropy\n",
    "\n",
    "from models import pose_resnet\n",
    "\n",
    "from tensorflow.keras.losses import binary_crossentropy\n",
    "import tensorflow.keras.backend as K\n",
    "\n"
   ]
  },
  {
   "cell_type": "code",
   "execution_count": 3,
   "id": "ea8742a1",
   "metadata": {},
   "outputs": [],
   "source": [
    "import argparse\n",
    "\n",
    "from config import cfg\n",
    "from config import update_config\n",
    "\n",
    "def mse(y_true, y_pred, sample_weight):\n",
    "    \n",
    "    error = y_true-y_pred\n",
    "    out=tf.mean(tf.sqrt(error)*sample_weight)\n",
    "    return tf.cast(out, dtype='float64')\n",
    "\n",
    "\n",
    "def dice_loss(y_true, y_pred, smooth=1):\n",
    "#     y_true = tf.cast(y_true, tf.float32)\n",
    "# #     y_pred = tf.cast(y_pred, tf.float32)\n",
    "#     x = tf.Variable(3.) # this is an custom op\n",
    "#     y = tf.Variable(4.)\n",
    "    loss = 13 - y_true * y_pred\n",
    "    \n",
    "    return loss\n"
   ]
  },
  {
   "cell_type": "code",
   "execution_count": 4,
   "id": "ea63ab0a",
   "metadata": {},
   "outputs": [
    {
     "name": "stdout",
     "output_type": "stream",
     "text": [
      "loading annotations into memory...\n",
      "Done (t=4.67s)\n",
      "creating index...\n",
      "index created!\n",
      "loading annotations into memory...\n",
      "Done (t=4.62s)\n",
      "creating index...\n",
      "index created!\n"
     ]
    }
   ],
   "source": [
    "\n",
    "data_3 = coco.COCODataset(cfg, cfg.DATASET.ROOT, cfg.DATASET.TRAIN_SET, True)\n",
    "\n",
    "\n",
    "\n",
    "# data=tf.data.Dataset.from_tensor_slices(data_3)"
   ]
  },
  {
   "cell_type": "code",
   "execution_count": 5,
   "id": "d87bf532",
   "metadata": {},
   "outputs": [],
   "source": [
    "# features_shape = [None, 256, 256, 3]\n",
    "# labels_shape = [None, 17,64,64]\n",
    "# labels_shape_1 = [None, 17]\n",
    "# ds = tf.data.Dataset.from_generator(\n",
    "#         data_3, (tf.float32, tf.float32,tf.float32),\n",
    "#         (tf.TensorShape(features_shape), tf.TensorShape(labels_shape),tf.TensorShape(labels_shape_1)))"
   ]
  },
  {
   "cell_type": "code",
   "execution_count": 6,
   "id": "b1933c9b",
   "metadata": {},
   "outputs": [],
   "source": [
    "# import numpy as np\n",
    "# for images, target in data_3:\n",
    "#     print(images)\n",
    "# # #     print(target)\n",
    "#     print(target_weights)\n",
    "#     print(meta)\n",
    "# images, target, target_weights,meta = data_3"
   ]
  },
  {
   "cell_type": "code",
   "execution_count": 7,
   "id": "d8a22852",
   "metadata": {},
   "outputs": [
    {
     "name": "stdout",
     "output_type": "stream",
     "text": [
      "WARNING:tensorflow:From /home/chandy/anaconda3/envs/gsoc/lib/python3.7/site-packages/tensorflow/python/keras/layers/normalization.py:534: _colocate_with (from tensorflow.python.framework.ops) is deprecated and will be removed in a future version.\n",
      "Instructions for updating:\n",
      "Colocations handled automatically by placer.\n",
      "Model: \"pose_res_net\"\n",
      "_________________________________________________________________\n",
      "Layer (type)                 Output Shape              Param #   \n",
      "=================================================================\n",
      "conv2d (Conv2D)              multiple                  9472      \n",
      "_________________________________________________________________\n",
      "batch_normalization (BatchNo multiple                  256       \n",
      "_________________________________________________________________\n",
      "re_lu (ReLU)                 multiple                  0         \n",
      "_________________________________________________________________\n",
      "max_pooling2d (MaxPooling2D) multiple                  0         \n",
      "_________________________________________________________________\n",
      "sequential_1 (Sequential)    multiple                  218624    \n",
      "_________________________________________________________________\n",
      "sequential_3 (Sequential)    multiple                  1226752   \n",
      "_________________________________________________________________\n",
      "sequential_5 (Sequential)    multiple                  7118848   \n",
      "_________________________________________________________________\n",
      "sequential_7 (Sequential)    multiple                  14987264  \n",
      "_________________________________________________________________\n",
      "sequential_8 (Sequential)    multiple                  10488832  \n",
      "_________________________________________________________________\n",
      "conv2d_53 (Conv2D)           multiple                  4369      \n",
      "=================================================================\n",
      "Total params: 34,054,417\n",
      "Trainable params: 33,954,321\n",
      "Non-trainable params: 100,096\n",
      "_________________________________________________________________\n",
      "Epoch 1/2\n",
      "7392/7392 [==============================] - 1877s 253ms/step - batch: 3695.5000 - size: 16.0000 - loss: 0.0089\n",
      "Epoch 2/2\n",
      "7392/7392 [==============================] - 1893s 256ms/step - batch: 3695.5000 - size: 16.0000 - loss: 0.0078\n"
     ]
    },
    {
     "data": {
      "text/plain": [
       "<tensorflow.python.keras.callbacks.History at 0x7fe2a9296cd0>"
      ]
     },
     "execution_count": 7,
     "metadata": {},
     "output_type": "execute_result"
    }
   ],
   "source": [
    "\n",
    "# model = eval('models.'+cfg.MODEL.NAME+'.get_pose_net')(\n",
    "#         cfg, is_train=True\n",
    "#     )\n",
    "# sgd=tf.keras.optimizers.SGD(\n",
    "#     learning_rate=0.01, momentum=0.0, nesterov=False, name=\"SGD\", **kwargs\n",
    "# )\n",
    "\n",
    "model= pose_resnet.get_pose_net(\n",
    "        cfg, is_train=True\n",
    "    )\n",
    "model.build(input_shape=(None,256, 256, 3))\n",
    "\n",
    "model.compile(loss=\"mae\", optimizer='SGD')\n",
    "model.summary()\n",
    "model.fit(data_3,epochs=2)"
   ]
  },
  {
   "cell_type": "code",
   "execution_count": 8,
   "id": "17e6e444",
   "metadata": {},
   "outputs": [
    {
     "name": "stdout",
     "output_type": "stream",
     "text": [
      "<data.coco.COCODataset object at 0x7fe33da163d0>\n"
     ]
    }
   ],
   "source": [
    "# for images, target, target_weights,meta in data_3:\n",
    "#     print(images.shape)\n",
    "print(data_3)\n",
    "# image, target = data_3\n",
    "# model.fit_generator(\n",
    "#     data_3,\n",
    "#     # samples_per_epoch=train_samples,\n",
    "   \n",
    "#     epochs=2,\n",
    "#     validation_data=data_3)\n",
    "\n",
    "# # for images, target, target_weight, meta in train_data_iter:\n",
    "# #     print(images.shape)\n",
    "    "
   ]
  },
  {
   "cell_type": "code",
   "execution_count": null,
   "id": "7572dd71",
   "metadata": {},
   "outputs": [],
   "source": []
  }
 ],
 "metadata": {
  "kernelspec": {
   "display_name": "Python 3",
   "language": "python",
   "name": "python3"
  },
  "language_info": {
   "codemirror_mode": {
    "name": "ipython",
    "version": 3
   },
   "file_extension": ".py",
   "mimetype": "text/x-python",
   "name": "python",
   "nbconvert_exporter": "python",
   "pygments_lexer": "ipython3",
   "version": "3.7.9"
  }
 },
 "nbformat": 4,
 "nbformat_minor": 5
}
