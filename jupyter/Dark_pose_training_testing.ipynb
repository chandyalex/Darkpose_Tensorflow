{
 "cells": [
  {
   "cell_type": "code",
   "execution_count": 1,
   "id": "f9e8b4f9",
   "metadata": {},
   "outputs": [],
   "source": [
    "\n",
    "import numpy as np\n",
    "\n",
    "import tensorflow as tf\n",
    "import _init_paths\n",
    "# from tensorflow.python.framework.ops import disable_eager_execution\n",
    "# disable_eager_execution()\n",
    "import logging\n",
    "logger = logging.getLogger()\n",
    "logger.setLevel(logging.DEBUG)\n",
    "# logging.debug(\"test\")"
   ]
  },
  {
   "cell_type": "code",
   "execution_count": 2,
   "id": "a64cd8a7",
   "metadata": {},
   "outputs": [],
   "source": [
    "from data import coco\n",
    "from data import coco_data\n",
    "from config import cfg\n",
    "from core.loss import JointsMSELoss,JointsOHKMMSELoss,dice_loss\n",
    "from models import pose_resnet\n",
    "from core.evaluation import accuracy\n",
    "from utils.utils import get_optimizer\n",
    "\n",
    "from core.dark_function import train,validate\n"
   ]
  },
  {
   "cell_type": "code",
   "execution_count": null,
   "id": "d57feb35",
   "metadata": {},
   "outputs": [],
   "source": [
    "\n"
   ]
  },
  {
   "cell_type": "code",
   "execution_count": 3,
   "id": "fa5a627f",
   "metadata": {},
   "outputs": [
    {
     "name": "stdout",
     "output_type": "stream",
     "text": [
      "loading annotations into memory...\n",
      "Done (t=4.81s)\n",
      "creating index...\n",
      "index created!\n",
      "loading annotations into memory...\n",
      "Done (t=4.62s)\n",
      "creating index...\n",
      "index created!\n"
     ]
    }
   ],
   "source": [
    "# optimizer=tf.keras.optimizers.Adam(learning_rate=0.01)\n",
    "data_gen = coco.COCODataset(\n",
    "    cfg, cfg.DATASET.ROOT, cfg.DATASET.TRAIN_SET, True\n",
    "    )"
   ]
  },
  {
   "cell_type": "code",
   "execution_count": 4,
   "id": "97447dad",
   "metadata": {},
   "outputs": [
    {
     "name": "stderr",
     "output_type": "stream",
     "text": [
      "/home/chandy/anaconda3/envs/gsoc/lib/python3.7/site-packages/tensorflow/python/keras/optimizer_v2/optimizer_v2.py:375: UserWarning: The `lr` argument is deprecated, use `learning_rate` instead.\n",
      "  \"The `lr` argument is deprecated, use `learning_rate` instead.\")\n"
     ]
    }
   ],
   "source": [
    "\n",
    "model= pose_resnet.get_pose_net(\n",
    "        cfg, is_train=True\n",
    "    )\n",
    "\n",
    "optimizer = get_optimizer(cfg, model)\n",
    "\n",
    "model.build(input_shape=data_gen[0][0].shape)\n",
    "\n",
    "# model.compile(loss=JointsMSELoss, optimizer=optimizer,run_eagerly=True)\n",
    "# model.summary()\n",
    "# model.fit(data_gen,epochs=2)"
   ]
  },
  {
   "cell_type": "code",
   "execution_count": 5,
   "id": "19395699",
   "metadata": {},
   "outputs": [
    {
     "name": "stdout",
     "output_type": "stream",
     "text": [
      "Model: \"pose_res_net\"\n",
      "_________________________________________________________________\n",
      "Layer (type)                 Output Shape              Param #   \n",
      "=================================================================\n",
      "conv2d (Conv2D)              multiple                  9472      \n",
      "_________________________________________________________________\n",
      "batch_normalization (BatchNo multiple                  256       \n",
      "_________________________________________________________________\n",
      "re_lu (ReLU)                 multiple                  0         \n",
      "_________________________________________________________________\n",
      "max_pooling2d (MaxPooling2D) multiple                  0         \n",
      "_________________________________________________________________\n",
      "sequential_1 (Sequential)    (8, 64, 64, 256)          218624    \n",
      "_________________________________________________________________\n",
      "sequential_3 (Sequential)    (8, 32, 32, 512)          1226752   \n",
      "_________________________________________________________________\n",
      "sequential_5 (Sequential)    (8, 16, 16, 1024)         7118848   \n",
      "_________________________________________________________________\n",
      "sequential_7 (Sequential)    (8, 8, 8, 2048)           14987264  \n",
      "_________________________________________________________________\n",
      "sequential_8 (Sequential)    (8, 64, 64, 256)          10488832  \n",
      "_________________________________________________________________\n",
      "conv2d_53 (Conv2D)           multiple                  4369      \n",
      "=================================================================\n",
      "Total params: 34,054,417\n",
      "Trainable params: 33,954,321\n",
      "Non-trainable params: 100,096\n",
      "_________________________________________________________________\n",
      "Epoch: [0][0/14785]\tTime 2.756s (2.756s)\tSpeed 2.9 samples/s\tData 0.041s (0.041s)\tLoss 0.00064 (0.00064)\tAccuracy 0.633 (0.633)\n",
      "Epoch: [0][500/14785]\tTime 0.529s (0.453s)\tSpeed 15.1 samples/s\tData 0.037s (0.046s)\tLoss 0.00050 (0.00064)\tAccuracy 0.593 (0.657)\n",
      "Epoch: [0][1000/14785]\tTime 0.459s (0.467s)\tSpeed 17.4 samples/s\tData 0.043s (0.047s)\tLoss 0.00051 (0.00063)\tAccuracy 0.689 (0.644)\n",
      "Epoch: [0][1500/14785]\tTime 0.429s (0.462s)\tSpeed 18.6 samples/s\tData 0.041s (0.047s)\tLoss 0.00038 (0.00063)\tAccuracy 0.560 (0.638)\n",
      "Epoch: [0][2000/14785]\tTime 0.415s (0.457s)\tSpeed 19.3 samples/s\tData 0.033s (0.047s)\tLoss 0.00061 (0.00064)\tAccuracy 0.591 (0.628)\n",
      "Epoch: [0][2500/14785]\tTime 0.438s (0.454s)\tSpeed 18.3 samples/s\tData 0.044s (0.047s)\tLoss 0.00037 (0.00063)\tAccuracy 0.600 (0.627)\n",
      "Epoch: [0][3000/14785]\tTime 0.432s (0.452s)\tSpeed 18.5 samples/s\tData 0.045s (0.046s)\tLoss 0.00037 (0.00062)\tAccuracy 0.668 (0.625)\n",
      "Epoch: [0][3500/14785]\tTime 0.460s (0.450s)\tSpeed 17.4 samples/s\tData 0.037s (0.046s)\tLoss 0.00110 (0.00062)\tAccuracy 0.591 (0.627)\n",
      "Epoch: [0][4000/14785]\tTime 0.434s (0.449s)\tSpeed 18.4 samples/s\tData 0.051s (0.046s)\tLoss 0.00070 (0.00062)\tAccuracy 0.648 (0.628)\n",
      "Epoch: [0][4500/14785]\tTime 0.438s (0.448s)\tSpeed 18.3 samples/s\tData 0.034s (0.046s)\tLoss 0.00056 (0.00062)\tAccuracy 0.660 (0.628)\n",
      "Epoch: [0][5000/14785]\tTime 0.426s (0.448s)\tSpeed 18.8 samples/s\tData 0.040s (0.046s)\tLoss 0.00032 (0.00061)\tAccuracy 0.647 (0.631)\n",
      "Epoch: [0][5500/14785]\tTime 0.435s (0.447s)\tSpeed 18.4 samples/s\tData 0.047s (0.046s)\tLoss 0.00061 (0.00061)\tAccuracy 0.581 (0.631)\n",
      "Epoch: [0][6000/14785]\tTime 0.434s (0.447s)\tSpeed 18.4 samples/s\tData 0.042s (0.046s)\tLoss 0.00061 (0.00061)\tAccuracy 0.744 (0.632)\n",
      "Epoch: [0][6500/14785]\tTime 0.435s (0.446s)\tSpeed 18.4 samples/s\tData 0.039s (0.046s)\tLoss 0.00031 (0.00061)\tAccuracy 0.632 (0.632)\n",
      "Epoch: [0][7000/14785]\tTime 0.433s (0.446s)\tSpeed 18.5 samples/s\tData 0.039s (0.046s)\tLoss 0.00082 (0.00060)\tAccuracy 0.658 (0.633)\n",
      "Epoch: [0][7500/14785]\tTime 0.437s (0.446s)\tSpeed 18.3 samples/s\tData 0.047s (0.046s)\tLoss 0.00054 (0.00060)\tAccuracy 0.615 (0.633)\n",
      "Epoch: [0][8000/14785]\tTime 0.439s (0.446s)\tSpeed 18.2 samples/s\tData 0.042s (0.046s)\tLoss 0.00058 (0.00060)\tAccuracy 0.650 (0.633)\n",
      "Epoch: [0][8500/14785]\tTime 0.436s (0.446s)\tSpeed 18.3 samples/s\tData 0.049s (0.046s)\tLoss 0.00061 (0.00060)\tAccuracy 0.660 (0.633)\n",
      "Epoch: [0][9000/14785]\tTime 0.440s (0.446s)\tSpeed 18.2 samples/s\tData 0.042s (0.046s)\tLoss 0.00079 (0.00060)\tAccuracy 0.695 (0.633)\n",
      "Epoch: [0][9500/14785]\tTime 0.426s (0.446s)\tSpeed 18.8 samples/s\tData 0.037s (0.046s)\tLoss 0.00072 (0.00060)\tAccuracy 0.593 (0.633)\n",
      "Epoch: [0][10000/14785]\tTime 0.472s (0.445s)\tSpeed 16.9 samples/s\tData 0.048s (0.046s)\tLoss 0.00047 (0.00060)\tAccuracy 0.526 (0.633)\n",
      "Epoch: [0][10500/14785]\tTime 0.430s (0.446s)\tSpeed 18.6 samples/s\tData 0.035s (0.046s)\tLoss 0.00035 (0.00060)\tAccuracy 0.676 (0.634)\n",
      "Epoch: [0][11000/14785]\tTime 0.450s (0.445s)\tSpeed 17.8 samples/s\tData 0.044s (0.046s)\tLoss 0.00075 (0.00060)\tAccuracy 0.667 (0.634)\n",
      "Epoch: [0][11500/14785]\tTime 0.443s (0.445s)\tSpeed 18.0 samples/s\tData 0.047s (0.046s)\tLoss 0.00060 (0.00060)\tAccuracy 0.751 (0.635)\n",
      "Epoch: [0][12000/14785]\tTime 0.426s (0.445s)\tSpeed 18.8 samples/s\tData 0.040s (0.046s)\tLoss 0.00073 (0.00059)\tAccuracy 0.658 (0.635)\n",
      "Epoch: [0][12500/14785]\tTime 0.446s (0.446s)\tSpeed 17.9 samples/s\tData 0.041s (0.046s)\tLoss 0.00043 (0.00059)\tAccuracy 0.479 (0.634)\n",
      "Epoch: [0][13000/14785]\tTime 0.447s (0.445s)\tSpeed 17.9 samples/s\tData 0.052s (0.046s)\tLoss 0.00060 (0.00059)\tAccuracy 0.571 (0.634)\n",
      "Epoch: [0][13500/14785]\tTime 0.432s (0.445s)\tSpeed 18.5 samples/s\tData 0.049s (0.046s)\tLoss 0.00057 (0.00059)\tAccuracy 0.547 (0.634)\n",
      "Epoch: [0][14000/14785]\tTime 0.439s (0.445s)\tSpeed 18.2 samples/s\tData 0.049s (0.046s)\tLoss 0.00037 (0.00059)\tAccuracy 0.681 (0.635)\n",
      "Epoch: [0][14500/14785]\tTime 0.446s (0.445s)\tSpeed 18.0 samples/s\tData 0.051s (0.046s)\tLoss 0.00086 (0.00059)\tAccuracy 0.599 (0.635)\n"
     ]
    },
    {
     "ename": "IndexError",
     "evalue": "list index out of range",
     "output_type": "error",
     "traceback": [
      "\u001b[0;31m---------------------------------------------------------------------------\u001b[0m",
      "\u001b[0;31mIndexError\u001b[0m                                Traceback (most recent call last)",
      "\u001b[0;32m<ipython-input-5-f755a4ea1132>\u001b[0m in \u001b[0;36m<module>\u001b[0;34m\u001b[0m\n\u001b[1;32m      2\u001b[0m \u001b[0;32mfor\u001b[0m \u001b[0mi\u001b[0m \u001b[0;32min\u001b[0m \u001b[0mrange\u001b[0m\u001b[0;34m(\u001b[0m\u001b[0mepoch\u001b[0m\u001b[0;34m)\u001b[0m\u001b[0;34m:\u001b[0m\u001b[0;34m\u001b[0m\u001b[0;34m\u001b[0m\u001b[0m\n\u001b[1;32m      3\u001b[0m     \u001b[0mtrain\u001b[0m\u001b[0;34m(\u001b[0m\u001b[0mcfg\u001b[0m\u001b[0;34m,\u001b[0m\u001b[0mdata_gen\u001b[0m\u001b[0;34m,\u001b[0m\u001b[0mmodel\u001b[0m\u001b[0;34m,\u001b[0m\u001b[0mJointsMSELoss\u001b[0m\u001b[0;34m,\u001b[0m\u001b[0moptimizer\u001b[0m\u001b[0;34m,\u001b[0m\u001b[0mi\u001b[0m\u001b[0;34m)\u001b[0m\u001b[0;34m\u001b[0m\u001b[0;34m\u001b[0m\u001b[0m\n\u001b[0;32m----> 4\u001b[0;31m     \u001b[0mvalidate\u001b[0m\u001b[0;34m(\u001b[0m\u001b[0mcfg\u001b[0m\u001b[0;34m,\u001b[0m\u001b[0mdata_gen\u001b[0m\u001b[0;34m,\u001b[0m\u001b[0mmodel\u001b[0m\u001b[0;34m,\u001b[0m\u001b[0mJointsMSELoss\u001b[0m\u001b[0;34m)\u001b[0m\u001b[0;34m\u001b[0m\u001b[0;34m\u001b[0m\u001b[0m\n\u001b[0m\u001b[1;32m      5\u001b[0m \u001b[0;34m\u001b[0m\u001b[0m\n",
      "\u001b[0;32m~/gsoc/Darkpose_Tensorflow/jupyter/../core/dark_function.py\u001b[0m in \u001b[0;36mvalidate\u001b[0;34m(config, val_loader, model, criterion, output_dir, tb_log_dir, writer_dict)\u001b[0m\n\u001b[1;32m    202\u001b[0m   name_values, perf_indicator = val_loader.evaluate(\n\u001b[1;32m    203\u001b[0m       \u001b[0mconfig\u001b[0m\u001b[0;34m,\u001b[0m \u001b[0mall_preds\u001b[0m\u001b[0;34m,\u001b[0m \u001b[0moutput_dir\u001b[0m\u001b[0;34m,\u001b[0m \u001b[0mall_boxes\u001b[0m\u001b[0;34m,\u001b[0m \u001b[0mimage_path\u001b[0m\u001b[0;34m,\u001b[0m\u001b[0;34m\u001b[0m\u001b[0;34m\u001b[0m\u001b[0m\n\u001b[0;32m--> 204\u001b[0;31m       \u001b[0mfilenames\u001b[0m\u001b[0;34m,\u001b[0m \u001b[0mimgnums\u001b[0m\u001b[0;34m\u001b[0m\u001b[0;34m\u001b[0m\u001b[0m\n\u001b[0m\u001b[1;32m    205\u001b[0m   )\n\u001b[1;32m    206\u001b[0m   \u001b[0;32mreturn\u001b[0m \u001b[0mperf_indicator\u001b[0m\u001b[0;34m\u001b[0m\u001b[0;34m\u001b[0m\u001b[0m\n",
      "\u001b[0;32m~/gsoc/Darkpose_Tensorflow/jupyter/../data/coco.py\u001b[0m in \u001b[0;36mevaluate\u001b[0;34m(self, cfg, preds, output_dir, all_boxes, img_path, *args, **kwargs)\u001b[0m\n\u001b[1;32m    315\u001b[0m     \u001b[0m_kpts\u001b[0m \u001b[0;34m=\u001b[0m \u001b[0;34m[\u001b[0m\u001b[0;34m]\u001b[0m\u001b[0;34m\u001b[0m\u001b[0;34m\u001b[0m\u001b[0m\n\u001b[1;32m    316\u001b[0m     \u001b[0;32mfor\u001b[0m \u001b[0midx\u001b[0m\u001b[0;34m,\u001b[0m \u001b[0mkpt\u001b[0m \u001b[0;32min\u001b[0m \u001b[0menumerate\u001b[0m\u001b[0;34m(\u001b[0m\u001b[0mpreds\u001b[0m\u001b[0;34m)\u001b[0m\u001b[0;34m:\u001b[0m\u001b[0;34m\u001b[0m\u001b[0;34m\u001b[0m\u001b[0m\n\u001b[0;32m--> 317\u001b[0;31m       \u001b[0mprint\u001b[0m\u001b[0;34m(\u001b[0m\u001b[0mint\u001b[0m\u001b[0;34m(\u001b[0m\u001b[0mstr\u001b[0m\u001b[0;34m(\u001b[0m\u001b[0mimg_path\u001b[0m\u001b[0;34m[\u001b[0m\u001b[0midx\u001b[0m\u001b[0;34m]\u001b[0m\u001b[0;34m[\u001b[0m\u001b[0;34m-\u001b[0m\u001b[0;36m16\u001b[0m\u001b[0;34m:\u001b[0m\u001b[0;34m-\u001b[0m\u001b[0;36m4\u001b[0m\u001b[0;34m]\u001b[0m\u001b[0;34m)\u001b[0m\u001b[0;34m)\u001b[0m\u001b[0;34m)\u001b[0m\u001b[0;34m\u001b[0m\u001b[0;34m\u001b[0m\u001b[0m\n\u001b[0m\u001b[1;32m    318\u001b[0m       _kpts.append({\n\u001b[1;32m    319\u001b[0m           \u001b[0;34m'keypoints'\u001b[0m\u001b[0;34m:\u001b[0m \u001b[0mkpt\u001b[0m\u001b[0;34m,\u001b[0m\u001b[0;34m\u001b[0m\u001b[0;34m\u001b[0m\u001b[0m\n",
      "\u001b[0;31mIndexError\u001b[0m: list index out of range"
     ]
    }
   ],
   "source": [
    "epoch=2\n",
    "for i in range(epoch):\n",
    "    train(cfg,data_gen,model,JointsMSELoss,optimizer,i)\n",
    "    validate(cfg,data_gen,model,JointsMSELoss)\n",
    "    \n"
   ]
  },
  {
   "cell_type": "code",
   "execution_count": null,
   "id": "c631d8b5",
   "metadata": {},
   "outputs": [],
   "source": []
  },
  {
   "cell_type": "code",
   "execution_count": null,
   "id": "8b2a557d",
   "metadata": {},
   "outputs": [],
   "source": []
  },
  {
   "cell_type": "code",
   "execution_count": null,
   "id": "bdc245e2",
   "metadata": {},
   "outputs": [],
   "source": []
  },
  {
   "cell_type": "code",
   "execution_count": null,
   "id": "19f056a3",
   "metadata": {},
   "outputs": [],
   "source": []
  },
  {
   "cell_type": "code",
   "execution_count": null,
   "id": "b5098efc",
   "metadata": {},
   "outputs": [],
   "source": []
  },
  {
   "cell_type": "code",
   "execution_count": null,
   "id": "a529fa10",
   "metadata": {},
   "outputs": [],
   "source": []
  },
  {
   "cell_type": "code",
   "execution_count": null,
   "id": "f75556db",
   "metadata": {},
   "outputs": [],
   "source": []
  },
  {
   "cell_type": "code",
   "execution_count": null,
   "id": "594a6629",
   "metadata": {},
   "outputs": [],
   "source": []
  },
  {
   "cell_type": "code",
   "execution_count": null,
   "id": "52d2925e",
   "metadata": {},
   "outputs": [],
   "source": []
  }
 ],
 "metadata": {
  "kernelspec": {
   "display_name": "Python 3",
   "language": "python",
   "name": "python3"
  },
  "language_info": {
   "codemirror_mode": {
    "name": "ipython",
    "version": 3
   },
   "file_extension": ".py",
   "mimetype": "text/x-python",
   "name": "python",
   "nbconvert_exporter": "python",
   "pygments_lexer": "ipython3",
   "version": "3.7.9"
  }
 },
 "nbformat": 4,
 "nbformat_minor": 5
}
