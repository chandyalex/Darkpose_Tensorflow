{
 "cells": [
  {
   "cell_type": "code",
   "execution_count": 1,
   "id": "f9e8b4f9",
   "metadata": {},
   "outputs": [],
   "source": [
    "import numpy as np\n",
    "import sys\n",
    "sys.path.append('/home/chandy/gsoc/Darkpose_Tensorflow/lib/')\n",
    "import tensorflow as tf\n",
    "# from tensorflow.python.framework.ops import disable_eager_execution\n",
    "# disable_eager_execution()\n",
    "import logging\n",
    "logger = logging.getLogger()\n",
    "logger.setLevel(logging.DEBUG)\n",
    "# logging.debug(\"test\")"
   ]
  },
  {
   "cell_type": "code",
   "execution_count": 2,
   "id": "a64cd8a7",
   "metadata": {},
   "outputs": [],
   "source": [
    "from data import coco\n",
    "from data import coco_data\n",
    "from config import cfg\n",
    "from core.loss import JointsMSELoss,JointsOHKMMSELoss,dice_loss\n",
    "from models import pose_resnet\n",
    "from core.evaluation import accuracy\n",
    "from utils.utils import get_optimizer\n",
    "\n",
    "from core.dark_function import train,validate\n"
   ]
  },
  {
   "cell_type": "code",
   "execution_count": 3,
   "id": "fa5a627f",
   "metadata": {},
   "outputs": [
    {
     "name": "stdout",
     "output_type": "stream",
     "text": [
      "loading annotations into memory...\n",
      "Done (t=4.94s)\n",
      "creating index...\n",
      "index created!\n",
      "loading annotations into memory...\n",
      "Done (t=4.82s)\n",
      "creating index...\n",
      "index created!\n"
     ]
    }
   ],
   "source": [
    "# optimizer=tf.keras.optimizers.Adam(learning_rate=0.01)\n",
    "data_gen = coco.COCODataset(cfg, cfg.DATASET.ROOT, cfg.DATASET.TRAIN_SET, True)"
   ]
  },
  {
   "cell_type": "code",
   "execution_count": 4,
   "id": "97447dad",
   "metadata": {},
   "outputs": [
    {
     "name": "stderr",
     "output_type": "stream",
     "text": [
      "/home/chandy/anaconda3/envs/gsoc/lib/python3.7/site-packages/tensorflow/python/keras/optimizer_v2/optimizer_v2.py:375: UserWarning: The `lr` argument is deprecated, use `learning_rate` instead.\n",
      "  \"The `lr` argument is deprecated, use `learning_rate` instead.\")\n"
     ]
    }
   ],
   "source": [
    "\n",
    "model= pose_resnet.get_pose_net(\n",
    "        cfg, is_train=True\n",
    "    )\n",
    "\n",
    "optimizer = get_optimizer(cfg, model)\n",
    "\n",
    "# model.compile(loss=JointsMSELoss, optimizer='SGD',run_eagerly=True)\n",
    "# model.summary()\n",
    "# model.fit(data_gen,epochs=2)"
   ]
  },
  {
   "cell_type": "code",
   "execution_count": null,
   "id": "19395699",
   "metadata": {},
   "outputs": [
    {
     "name": "stdout",
     "output_type": "stream",
     "text": [
      "Model: \"pose_res_net\"\n",
      "_________________________________________________________________\n",
      "Layer (type)                 Output Shape              Param #   \n",
      "=================================================================\n",
      "conv2d (Conv2D)              multiple                  9472      \n",
      "_________________________________________________________________\n",
      "batch_normalization (BatchNo multiple                  256       \n",
      "_________________________________________________________________\n",
      "re_lu (ReLU)                 multiple                  0         \n",
      "_________________________________________________________________\n",
      "max_pooling2d (MaxPooling2D) multiple                  0         \n",
      "_________________________________________________________________\n",
      "sequential_1 (Sequential)    (8, 64, 64, 256)          218624    \n",
      "_________________________________________________________________\n",
      "sequential_3 (Sequential)    (8, 32, 32, 512)          1226752   \n",
      "_________________________________________________________________\n",
      "sequential_5 (Sequential)    (8, 16, 16, 1024)         7118848   \n",
      "_________________________________________________________________\n",
      "sequential_7 (Sequential)    (8, 8, 8, 2048)           14987264  \n",
      "_________________________________________________________________\n",
      "sequential_8 (Sequential)    (8, 64, 64, 256)          10488832  \n",
      "_________________________________________________________________\n",
      "conv2d_53 (Conv2D)           multiple                  4369      \n",
      "=================================================================\n",
      "Total params: 34,054,417\n",
      "Trainable params: 33,954,321\n",
      "Non-trainable params: 100,096\n",
      "_________________________________________________________________\n",
      "Epoch: [0][0/14785]\tTime 2.492s (2.492s)\tSpeed 3.2 samples/s\tData 0.041s (0.041s)\tLoss 0.00055 (0.00055)\tAccuracy 0.696 (0.696)\n",
      "Epoch: [0][500/14785]\tTime 0.408s (0.436s)\tSpeed 19.6 samples/s\tData 0.040s (0.042s)\tLoss 0.00060 (0.00065)\tAccuracy 0.425 (0.653)\n",
      "Epoch: [0][1000/14785]\tTime 0.438s (0.437s)\tSpeed 18.3 samples/s\tData 0.041s (0.042s)\tLoss 0.00050 (0.00063)\tAccuracy 0.473 (0.635)\n",
      "Epoch: [0][1500/14785]\tTime 0.422s (0.438s)\tSpeed 19.0 samples/s\tData 0.041s (0.043s)\tLoss 0.00045 (0.00064)\tAccuracy 0.593 (0.621)\n",
      "Epoch: [0][2000/14785]\tTime 0.427s (0.440s)\tSpeed 18.7 samples/s\tData 0.034s (0.043s)\tLoss 0.00065 (0.00064)\tAccuracy 0.572 (0.613)\n",
      "Epoch: [0][2500/14785]\tTime 0.433s (0.440s)\tSpeed 18.5 samples/s\tData 0.043s (0.043s)\tLoss 0.00042 (0.00064)\tAccuracy 0.553 (0.613)\n",
      "Epoch: [0][3000/14785]\tTime 0.492s (0.440s)\tSpeed 16.3 samples/s\tData 0.043s (0.043s)\tLoss 0.00037 (0.00063)\tAccuracy 0.642 (0.615)\n",
      "Epoch: [0][3500/14785]\tTime 0.438s (0.443s)\tSpeed 18.3 samples/s\tData 0.042s (0.044s)\tLoss 0.00124 (0.00063)\tAccuracy 0.574 (0.618)\n",
      "Epoch: [0][4000/14785]\tTime 0.416s (0.443s)\tSpeed 19.3 samples/s\tData 0.055s (0.044s)\tLoss 0.00073 (0.00063)\tAccuracy 0.681 (0.618)\n",
      "Epoch: [0][4500/14785]\tTime 0.449s (0.445s)\tSpeed 17.8 samples/s\tData 0.033s (0.044s)\tLoss 0.00055 (0.00062)\tAccuracy 0.695 (0.619)\n",
      "Epoch: [0][5000/14785]\tTime 0.448s (0.447s)\tSpeed 17.8 samples/s\tData 0.039s (0.044s)\tLoss 0.00036 (0.00062)\tAccuracy 0.754 (0.622)\n",
      "Epoch: [0][5500/14785]\tTime 0.466s (0.449s)\tSpeed 17.2 samples/s\tData 0.047s (0.044s)\tLoss 0.00052 (0.00062)\tAccuracy 0.718 (0.623)\n",
      "Epoch: [0][6000/14785]\tTime 0.475s (0.450s)\tSpeed 16.8 samples/s\tData 0.041s (0.044s)\tLoss 0.00063 (0.00061)\tAccuracy 0.583 (0.626)\n",
      "Epoch: [0][6500/14785]\tTime 0.435s (0.452s)\tSpeed 18.4 samples/s\tData 0.041s (0.044s)\tLoss 0.00022 (0.00061)\tAccuracy 0.662 (0.628)\n",
      "Epoch: [0][7000/14785]\tTime 0.441s (0.451s)\tSpeed 18.1 samples/s\tData 0.040s (0.044s)\tLoss 0.00088 (0.00061)\tAccuracy 0.694 (0.629)\n",
      "Epoch: [0][7500/14785]\tTime 0.442s (0.450s)\tSpeed 18.1 samples/s\tData 0.044s (0.044s)\tLoss 0.00058 (0.00061)\tAccuracy 0.757 (0.630)\n",
      "Epoch: [0][8000/14785]\tTime 0.420s (0.450s)\tSpeed 19.1 samples/s\tData 0.039s (0.044s)\tLoss 0.00061 (0.00061)\tAccuracy 0.620 (0.631)\n",
      "Epoch: [0][8500/14785]\tTime 0.451s (0.449s)\tSpeed 17.8 samples/s\tData 0.042s (0.044s)\tLoss 0.00062 (0.00061)\tAccuracy 0.701 (0.632)\n",
      "Epoch: [0][9000/14785]\tTime 0.430s (0.449s)\tSpeed 18.6 samples/s\tData 0.042s (0.044s)\tLoss 0.00085 (0.00061)\tAccuracy 0.593 (0.633)\n",
      "Epoch: [0][9500/14785]\tTime 0.447s (0.448s)\tSpeed 17.9 samples/s\tData 0.038s (0.044s)\tLoss 0.00080 (0.00061)\tAccuracy 0.699 (0.634)\n",
      "Epoch: [0][10000/14785]\tTime 0.462s (0.449s)\tSpeed 17.3 samples/s\tData 0.048s (0.044s)\tLoss 0.00042 (0.00061)\tAccuracy 0.621 (0.635)\n"
     ]
    }
   ],
   "source": [
    "epoch=2\n",
    "for i in range(epoch):\n",
    "    train(cfg,data_gen,model,JointsMSELoss,optimizer,i)\n",
    "    validate(cfg,data_gen,model,JointsMSELoss)\n",
    "    \n"
   ]
  },
  {
   "cell_type": "code",
   "execution_count": null,
   "id": "c631d8b5",
   "metadata": {},
   "outputs": [],
   "source": []
  },
  {
   "cell_type": "code",
   "execution_count": null,
   "id": "8b2a557d",
   "metadata": {},
   "outputs": [],
   "source": []
  },
  {
   "cell_type": "code",
   "execution_count": null,
   "id": "bdc245e2",
   "metadata": {},
   "outputs": [],
   "source": []
  },
  {
   "cell_type": "code",
   "execution_count": null,
   "id": "19f056a3",
   "metadata": {},
   "outputs": [],
   "source": []
  },
  {
   "cell_type": "code",
   "execution_count": null,
   "id": "b5098efc",
   "metadata": {},
   "outputs": [],
   "source": []
  },
  {
   "cell_type": "code",
   "execution_count": null,
   "id": "a529fa10",
   "metadata": {},
   "outputs": [],
   "source": []
  },
  {
   "cell_type": "code",
   "execution_count": null,
   "id": "f75556db",
   "metadata": {},
   "outputs": [],
   "source": []
  },
  {
   "cell_type": "code",
   "execution_count": null,
   "id": "594a6629",
   "metadata": {},
   "outputs": [],
   "source": []
  },
  {
   "cell_type": "code",
   "execution_count": null,
   "id": "52d2925e",
   "metadata": {},
   "outputs": [],
   "source": []
  }
 ],
 "metadata": {
  "kernelspec": {
   "display_name": "Python 3",
   "language": "python",
   "name": "python3"
  },
  "language_info": {
   "codemirror_mode": {
    "name": "ipython",
    "version": 3
   },
   "file_extension": ".py",
   "mimetype": "text/x-python",
   "name": "python",
   "nbconvert_exporter": "python",
   "pygments_lexer": "ipython3",
   "version": "3.7.9"
  }
 },
 "nbformat": 4,
 "nbformat_minor": 5
}
