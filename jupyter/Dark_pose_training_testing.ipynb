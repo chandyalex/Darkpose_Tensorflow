{
 "cells": [
  {
   "cell_type": "code",
   "execution_count": 1,
   "id": "f9e8b4f9",
   "metadata": {},
   "outputs": [],
   "source": [
    "\n",
    "import numpy as np\n",
    "\n",
    "import tensorflow as tf\n",
    "import _init_paths\n",
    "\n",
    "import logging\n",
    "\n"
   ]
  },
  {
   "cell_type": "code",
   "execution_count": 2,
   "id": "a64cd8a7",
   "metadata": {},
   "outputs": [],
   "source": [
    "from data import coco\n",
    "from data import coco_data\n",
    "from config import cfg\n",
    "from core.loss import JointsMSELoss,JointsOHKMMSELoss,dice_loss\n",
    "from models import pose_resnet\n",
    "from core.evaluation import accuracy\n",
    "from utils.utils import get_optimizer\n",
    "\n",
    "from core.dark_function import train,validate\n"
   ]
  },
  {
   "cell_type": "code",
   "execution_count": null,
   "id": "d57feb35",
   "metadata": {},
   "outputs": [],
   "source": [
    "\n"
   ]
  },
  {
   "cell_type": "code",
   "execution_count": 3,
   "id": "fa5a627f",
   "metadata": {},
   "outputs": [
    {
     "name": "stdout",
     "output_type": "stream",
     "text": [
      "loading annotations into memory...\n",
      "Done (t=4.90s)\n",
      "creating index...\n",
      "index created!\n",
      "loading annotations into memory...\n",
      "Done (t=4.81s)\n",
      "creating index...\n",
      "index created!\n",
      "loading annotations into memory...\n",
      "Done (t=0.13s)\n",
      "creating index...\n",
      "index created!\n",
      "loading annotations into memory...\n",
      "Done (t=0.14s)\n",
      "creating index...\n",
      "index created!\n"
     ]
    }
   ],
   "source": [
    "\n",
    "train_set = coco.COCODataset(\n",
    "    cfg, cfg.DATASET.ROOT, cfg.DATASET.TRAIN_SET, True\n",
    "    )\n",
    "\n",
    "valid_set = coco.COCODataset(\n",
    "    cfg, cfg.DATASET.ROOT, cfg.DATASET.TEST_SET, False\n",
    "    )"
   ]
  },
  {
   "cell_type": "code",
   "execution_count": 4,
   "id": "97447dad",
   "metadata": {},
   "outputs": [
    {
     "name": "stderr",
     "output_type": "stream",
     "text": [
      "/home/chandy/anaconda3/envs/gsoc/lib/python3.7/site-packages/tensorflow/python/keras/optimizer_v2/optimizer_v2.py:375: UserWarning: The `lr` argument is deprecated, use `learning_rate` instead.\n",
      "  \"The `lr` argument is deprecated, use `learning_rate` instead.\")\n"
     ]
    }
   ],
   "source": [
    "\n",
    "model= pose_resnet.get_pose_net(\n",
    "        cfg, is_train=True\n",
    "    )\n",
    "\n",
    "optimizer = get_optimizer(cfg, model)\n",
    "\n",
    "model.build(input_shape=train_set[0][0].shape)\n",
    "\n",
    "# model.compile(loss=JointsMSELoss, optimizer=optimizer,run_eagerly=True)\n",
    "# model.summary()\n",
    "# model.fit(data_gen,epochs=2)"
   ]
  },
  {
   "cell_type": "code",
   "execution_count": null,
   "id": "19395699",
   "metadata": {},
   "outputs": [
    {
     "name": "stdout",
     "output_type": "stream",
     "text": [
      "Model: \"pose_res_net\"\n",
      "_________________________________________________________________\n",
      "Layer (type)                 Output Shape              Param #   \n",
      "=================================================================\n",
      "conv2d (Conv2D)              multiple                  9472      \n",
      "_________________________________________________________________\n",
      "batch_normalization (BatchNo multiple                  256       \n",
      "_________________________________________________________________\n",
      "re_lu (ReLU)                 multiple                  0         \n",
      "_________________________________________________________________\n",
      "max_pooling2d (MaxPooling2D) multiple                  0         \n",
      "_________________________________________________________________\n",
      "sequential_1 (Sequential)    (32, 32, 24, 256)         218624    \n",
      "_________________________________________________________________\n",
      "sequential_3 (Sequential)    (32, 16, 12, 512)         1226752   \n",
      "_________________________________________________________________\n",
      "sequential_5 (Sequential)    (32, 8, 6, 1024)          7118848   \n",
      "_________________________________________________________________\n",
      "sequential_7 (Sequential)    (32, 4, 3, 2048)          14987264  \n",
      "_________________________________________________________________\n",
      "sequential_8 (Sequential)    (32, 32, 24, 256)         10488832  \n",
      "_________________________________________________________________\n",
      "conv2d_53 (Conv2D)           multiple                  4369      \n",
      "=================================================================\n",
      "Total params: 34,054,417\n",
      "Trainable params: 33,954,321\n",
      "Non-trainable params: 100,096\n",
      "_________________________________________________________________\n",
      "Epoch: [0][0/3696]\tTime 2.954s (2.954s)\tSpeed 10.8 samples/s\tData 0.137s (0.137s)\tLoss 0.00260 (0.00260)\tAccuracy 0.656 (0.656)\n",
      "Epoch: [0][500/3696]\tTime 1.204s (1.058s)\tSpeed 26.6 samples/s\tData 0.126s (0.149s)\tLoss 0.00333 (0.00294)\tAccuracy 0.645 (0.641)\n",
      "Epoch: [0][1000/3696]\tTime 1.016s (1.052s)\tSpeed 31.5 samples/s\tData 0.154s (0.149s)\tLoss 0.00302 (0.00286)\tAccuracy 0.606 (0.634)\n",
      "Epoch: [0][1500/3696]\tTime 0.981s (1.046s)\tSpeed 32.6 samples/s\tData 0.131s (0.148s)\tLoss 0.00181 (0.00279)\tAccuracy 0.629 (0.630)\n",
      "Epoch: [0][2000/3696]\tTime 1.028s (1.040s)\tSpeed 31.1 samples/s\tData 0.164s (0.148s)\tLoss 0.00328 (0.00276)\tAccuracy 0.581 (0.627)\n",
      "Epoch: [0][2500/3696]\tTime 0.995s (1.036s)\tSpeed 32.1 samples/s\tData 0.141s (0.147s)\tLoss 0.00246 (0.00275)\tAccuracy 0.647 (0.625)\n",
      "Epoch: [0][3000/3696]\tTime 1.040s (1.034s)\tSpeed 30.8 samples/s\tData 0.163s (0.147s)\tLoss 0.00319 (0.00273)\tAccuracy 0.626 (0.623)\n",
      "Epoch: [0][3500/3696]\tTime 1.029s (1.032s)\tSpeed 31.1 samples/s\tData 0.167s (0.147s)\tLoss 0.00268 (0.00270)\tAccuracy 0.591 (0.621)\n",
      "Test: [0/156]\tTime 0.948 (0.948)\tLoss 0.0028 (0.0028)\tAccuracy 0.590 (0.590)\n",
      "Loading and preparing results...\n",
      "DONE (t=0.00s)\n",
      "creating index...\n",
      "index created!\n",
      "Running per image evaluation...\n",
      "Evaluate annotation type *keypoints*\n",
      "DONE (t=0.79s).\n",
      "Accumulating evaluation results...\n",
      "DONE (t=0.02s).\n",
      " Average Precision  (AP) @[ IoU=0.50:0.95 | area=   all | maxDets= 20 ] = 0.000\n",
      " Average Precision  (AP) @[ IoU=0.50      | area=   all | maxDets= 20 ] = 0.000\n",
      " Average Precision  (AP) @[ IoU=0.75      | area=   all | maxDets= 20 ] = 0.000\n",
      " Average Precision  (AP) @[ IoU=0.50:0.95 | area=medium | maxDets= 20 ] = 0.000\n",
      " Average Precision  (AP) @[ IoU=0.50:0.95 | area= large | maxDets= 20 ] = 0.000\n",
      " Average Recall     (AR) @[ IoU=0.50:0.95 | area=   all | maxDets= 20 ] = 0.000\n",
      " Average Recall     (AR) @[ IoU=0.50      | area=   all | maxDets= 20 ] = 0.000\n",
      " Average Recall     (AR) @[ IoU=0.75      | area=   all | maxDets= 20 ] = 0.000\n",
      " Average Recall     (AR) @[ IoU=0.50:0.95 | area=medium | maxDets= 20 ] = 0.000\n",
      " Average Recall     (AR) @[ IoU=0.50:0.95 | area= large | maxDets= 20 ] = 0.000\n",
      "Model: \"pose_res_net\"\n",
      "_________________________________________________________________\n",
      "Layer (type)                 Output Shape              Param #   \n",
      "=================================================================\n",
      "conv2d (Conv2D)              multiple                  9472      \n",
      "_________________________________________________________________\n",
      "batch_normalization (BatchNo multiple                  256       \n",
      "_________________________________________________________________\n",
      "re_lu (ReLU)                 multiple                  0         \n",
      "_________________________________________________________________\n",
      "max_pooling2d (MaxPooling2D) multiple                  0         \n",
      "_________________________________________________________________\n",
      "sequential_1 (Sequential)    (32, 32, 24, 256)         218624    \n",
      "_________________________________________________________________\n",
      "sequential_3 (Sequential)    (32, 16, 12, 512)         1226752   \n",
      "_________________________________________________________________\n",
      "sequential_5 (Sequential)    (32, 8, 6, 1024)          7118848   \n",
      "_________________________________________________________________\n",
      "sequential_7 (Sequential)    (32, 4, 3, 2048)          14987264  \n",
      "_________________________________________________________________\n",
      "sequential_8 (Sequential)    (32, 32, 24, 256)         10488832  \n",
      "_________________________________________________________________\n",
      "conv2d_53 (Conv2D)           multiple                  4369      \n",
      "=================================================================\n",
      "Total params: 34,054,417\n",
      "Trainable params: 33,954,321\n",
      "Non-trainable params: 100,096\n",
      "_________________________________________________________________\n",
      "Epoch: [1][0/3696]\tTime 1.044s (1.044s)\tSpeed 30.7 samples/s\tData 0.162s (0.162s)\tLoss 0.00212 (0.00212)\tAccuracy 0.617 (0.617)\n",
      "Epoch: [1][500/3696]\tTime 0.994s (1.024s)\tSpeed 32.2 samples/s\tData 0.120s (0.146s)\tLoss 0.00303 (0.00256)\tAccuracy 0.558 (0.604)\n"
     ]
    }
   ],
   "source": [
    "epoch=2\n",
    "for i in range(epoch):\n",
    "    train(cfg,train_set,model,JointsMSELoss,optimizer,i)\n",
    "    validate(cfg,valid_set,model,JointsMSELoss)\n",
    "    \n"
   ]
  },
  {
   "cell_type": "code",
   "execution_count": null,
   "id": "c631d8b5",
   "metadata": {},
   "outputs": [],
   "source": []
  },
  {
   "cell_type": "code",
   "execution_count": null,
   "id": "8b2a557d",
   "metadata": {},
   "outputs": [],
   "source": []
  },
  {
   "cell_type": "code",
   "execution_count": null,
   "id": "bdc245e2",
   "metadata": {},
   "outputs": [],
   "source": []
  },
  {
   "cell_type": "code",
   "execution_count": null,
   "id": "19f056a3",
   "metadata": {},
   "outputs": [],
   "source": []
  },
  {
   "cell_type": "code",
   "execution_count": null,
   "id": "b5098efc",
   "metadata": {},
   "outputs": [],
   "source": []
  },
  {
   "cell_type": "code",
   "execution_count": null,
   "id": "a529fa10",
   "metadata": {},
   "outputs": [],
   "source": []
  },
  {
   "cell_type": "code",
   "execution_count": null,
   "id": "f75556db",
   "metadata": {},
   "outputs": [],
   "source": []
  },
  {
   "cell_type": "code",
   "execution_count": null,
   "id": "594a6629",
   "metadata": {},
   "outputs": [],
   "source": []
  },
  {
   "cell_type": "code",
   "execution_count": null,
   "id": "52d2925e",
   "metadata": {},
   "outputs": [],
   "source": []
  }
 ],
 "metadata": {
  "kernelspec": {
   "display_name": "Python 3",
   "language": "python",
   "name": "python3"
  },
  "language_info": {
   "codemirror_mode": {
    "name": "ipython",
    "version": 3
   },
   "file_extension": ".py",
   "mimetype": "text/x-python",
   "name": "python",
   "nbconvert_exporter": "python",
   "pygments_lexer": "ipython3",
   "version": "3.7.9"
  }
 },
 "nbformat": 4,
 "nbformat_minor": 5
}
