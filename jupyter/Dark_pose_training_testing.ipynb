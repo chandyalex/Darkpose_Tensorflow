{
 "cells": [
  {
   "cell_type": "code",
   "execution_count": 1,
   "id": "f9e8b4f9",
   "metadata": {},
   "outputs": [],
   "source": [
    "import numpy as np\n",
    "import sys\n",
    "sys.path.append('/home/chandy/gsoc/Darkpose_Tensorflow/lib/')\n",
    "import tensorflow as tf\n",
    "# from tensorflow.python.framework.ops import disable_eager_execution\n",
    "# disable_eager_execution()\n",
    "import logging\n",
    "logger = logging.getLogger()\n",
    "logger.setLevel(logging.DEBUG)\n",
    "# logging.debug(\"test\")"
   ]
  },
  {
   "cell_type": "code",
   "execution_count": 2,
   "id": "a64cd8a7",
   "metadata": {},
   "outputs": [],
   "source": [
    "from data import coco\n",
    "from data import coco_data\n",
    "from config import cfg\n",
    "from core.loss import JointsMSELoss,JointsOHKMMSELoss,dice_loss\n",
    "from models import pose_resnet\n",
    "from core.evaluation import accuracy\n",
    "from utils.utils import get_optimizer\n",
    "\n",
    "from core.dark_function import train,validate\n"
   ]
  },
  {
   "cell_type": "code",
   "execution_count": 3,
   "id": "fa5a627f",
   "metadata": {},
   "outputs": [
    {
     "name": "stdout",
     "output_type": "stream",
     "text": [
      "loading annotations into memory...\n",
      "Done (t=4.94s)\n",
      "creating index...\n",
      "index created!\n",
      "loading annotations into memory...\n",
      "Done (t=4.82s)\n",
      "creating index...\n",
      "index created!\n"
     ]
    }
   ],
   "source": [
    "# optimizer=tf.keras.optimizers.Adam(learning_rate=0.01)\n",
    "data_gen = coco.COCODataset(cfg, cfg.DATASET.ROOT, cfg.DATASET.TRAIN_SET, True)"
   ]
  },
  {
   "cell_type": "code",
   "execution_count": 4,
   "id": "97447dad",
   "metadata": {},
   "outputs": [
    {
     "name": "stderr",
     "output_type": "stream",
     "text": [
      "/home/chandy/anaconda3/envs/gsoc/lib/python3.7/site-packages/tensorflow/python/keras/optimizer_v2/optimizer_v2.py:375: UserWarning: The `lr` argument is deprecated, use `learning_rate` instead.\n",
      "  \"The `lr` argument is deprecated, use `learning_rate` instead.\")\n"
     ]
    }
   ],
   "source": [
    "\n",
    "model= pose_resnet.get_pose_net(\n",
    "        cfg, is_train=True\n",
    "    )\n",
    "\n",
    "optimizer = get_optimizer(cfg, model)\n",
    "\n",
    "# model.compile(loss=JointsMSELoss, optimizer='SGD',run_eagerly=True)\n",
    "# model.summary()\n",
    "# model.fit(data_gen,epochs=2)"
   ]
  },
  {
   "cell_type": "code",
   "execution_count": 5,
   "id": "19395699",
   "metadata": {},
   "outputs": [
    {
     "name": "stdout",
     "output_type": "stream",
     "text": [
      "Model: \"pose_res_net\"\n",
      "_________________________________________________________________\n",
      "Layer (type)                 Output Shape              Param #   \n",
      "=================================================================\n",
      "conv2d (Conv2D)              multiple                  9472      \n",
      "_________________________________________________________________\n",
      "batch_normalization (BatchNo multiple                  256       \n",
      "_________________________________________________________________\n",
      "re_lu (ReLU)                 multiple                  0         \n",
      "_________________________________________________________________\n",
      "max_pooling2d (MaxPooling2D) multiple                  0         \n",
      "_________________________________________________________________\n",
      "sequential_1 (Sequential)    (8, 64, 64, 256)          218624    \n",
      "_________________________________________________________________\n",
      "sequential_3 (Sequential)    (8, 32, 32, 512)          1226752   \n",
      "_________________________________________________________________\n",
      "sequential_5 (Sequential)    (8, 16, 16, 1024)         7118848   \n",
      "_________________________________________________________________\n",
      "sequential_7 (Sequential)    (8, 8, 8, 2048)           14987264  \n",
      "_________________________________________________________________\n",
      "sequential_8 (Sequential)    (8, 64, 64, 256)          10488832  \n",
      "_________________________________________________________________\n",
      "conv2d_53 (Conv2D)           multiple                  4369      \n",
      "=================================================================\n",
      "Total params: 34,054,417\n",
      "Trainable params: 33,954,321\n",
      "Non-trainable params: 100,096\n",
      "_________________________________________________________________\n",
      "Epoch: [0][0/14785]\tTime 2.492s (2.492s)\tSpeed 3.2 samples/s\tData 0.041s (0.041s)\tLoss 0.00055 (0.00055)\tAccuracy 0.696 (0.696)\n",
      "Epoch: [0][500/14785]\tTime 0.408s (0.436s)\tSpeed 19.6 samples/s\tData 0.040s (0.042s)\tLoss 0.00060 (0.00065)\tAccuracy 0.425 (0.653)\n",
      "Epoch: [0][1000/14785]\tTime 0.438s (0.437s)\tSpeed 18.3 samples/s\tData 0.041s (0.042s)\tLoss 0.00050 (0.00063)\tAccuracy 0.473 (0.635)\n",
      "Epoch: [0][1500/14785]\tTime 0.422s (0.438s)\tSpeed 19.0 samples/s\tData 0.041s (0.043s)\tLoss 0.00045 (0.00064)\tAccuracy 0.593 (0.621)\n",
      "Epoch: [0][2000/14785]\tTime 0.427s (0.440s)\tSpeed 18.7 samples/s\tData 0.034s (0.043s)\tLoss 0.00065 (0.00064)\tAccuracy 0.572 (0.613)\n",
      "Epoch: [0][2500/14785]\tTime 0.433s (0.440s)\tSpeed 18.5 samples/s\tData 0.043s (0.043s)\tLoss 0.00042 (0.00064)\tAccuracy 0.553 (0.613)\n",
      "Epoch: [0][3000/14785]\tTime 0.492s (0.440s)\tSpeed 16.3 samples/s\tData 0.043s (0.043s)\tLoss 0.00037 (0.00063)\tAccuracy 0.642 (0.615)\n",
      "Epoch: [0][3500/14785]\tTime 0.438s (0.443s)\tSpeed 18.3 samples/s\tData 0.042s (0.044s)\tLoss 0.00124 (0.00063)\tAccuracy 0.574 (0.618)\n",
      "Epoch: [0][4000/14785]\tTime 0.416s (0.443s)\tSpeed 19.3 samples/s\tData 0.055s (0.044s)\tLoss 0.00073 (0.00063)\tAccuracy 0.681 (0.618)\n",
      "Epoch: [0][4500/14785]\tTime 0.449s (0.445s)\tSpeed 17.8 samples/s\tData 0.033s (0.044s)\tLoss 0.00055 (0.00062)\tAccuracy 0.695 (0.619)\n",
      "Epoch: [0][5000/14785]\tTime 0.448s (0.447s)\tSpeed 17.8 samples/s\tData 0.039s (0.044s)\tLoss 0.00036 (0.00062)\tAccuracy 0.754 (0.622)\n",
      "Epoch: [0][5500/14785]\tTime 0.466s (0.449s)\tSpeed 17.2 samples/s\tData 0.047s (0.044s)\tLoss 0.00052 (0.00062)\tAccuracy 0.718 (0.623)\n",
      "Epoch: [0][6000/14785]\tTime 0.475s (0.450s)\tSpeed 16.8 samples/s\tData 0.041s (0.044s)\tLoss 0.00063 (0.00061)\tAccuracy 0.583 (0.626)\n",
      "Epoch: [0][6500/14785]\tTime 0.435s (0.452s)\tSpeed 18.4 samples/s\tData 0.041s (0.044s)\tLoss 0.00022 (0.00061)\tAccuracy 0.662 (0.628)\n",
      "Epoch: [0][7000/14785]\tTime 0.441s (0.451s)\tSpeed 18.1 samples/s\tData 0.040s (0.044s)\tLoss 0.00088 (0.00061)\tAccuracy 0.694 (0.629)\n",
      "Epoch: [0][7500/14785]\tTime 0.442s (0.450s)\tSpeed 18.1 samples/s\tData 0.044s (0.044s)\tLoss 0.00058 (0.00061)\tAccuracy 0.757 (0.630)\n",
      "Epoch: [0][8000/14785]\tTime 0.420s (0.450s)\tSpeed 19.1 samples/s\tData 0.039s (0.044s)\tLoss 0.00061 (0.00061)\tAccuracy 0.620 (0.631)\n",
      "Epoch: [0][8500/14785]\tTime 0.451s (0.449s)\tSpeed 17.8 samples/s\tData 0.042s (0.044s)\tLoss 0.00062 (0.00061)\tAccuracy 0.701 (0.632)\n",
      "Epoch: [0][9000/14785]\tTime 0.430s (0.449s)\tSpeed 18.6 samples/s\tData 0.042s (0.044s)\tLoss 0.00085 (0.00061)\tAccuracy 0.593 (0.633)\n",
      "Epoch: [0][9500/14785]\tTime 0.447s (0.448s)\tSpeed 17.9 samples/s\tData 0.038s (0.044s)\tLoss 0.00080 (0.00061)\tAccuracy 0.699 (0.634)\n",
      "Epoch: [0][10000/14785]\tTime 0.462s (0.449s)\tSpeed 17.3 samples/s\tData 0.048s (0.044s)\tLoss 0.00042 (0.00061)\tAccuracy 0.621 (0.635)\n",
      "Epoch: [0][10500/14785]\tTime 0.444s (0.449s)\tSpeed 18.0 samples/s\tData 0.042s (0.044s)\tLoss 0.00039 (0.00061)\tAccuracy 0.668 (0.635)\n",
      "Epoch: [0][11000/14785]\tTime 0.516s (0.450s)\tSpeed 15.5 samples/s\tData 0.050s (0.044s)\tLoss 0.00079 (0.00061)\tAccuracy 0.605 (0.635)\n",
      "Epoch: [0][11500/14785]\tTime 0.520s (0.451s)\tSpeed 15.4 samples/s\tData 0.055s (0.044s)\tLoss 0.00059 (0.00061)\tAccuracy 0.584 (0.635)\n",
      "Epoch: [0][12000/14785]\tTime 0.445s (0.451s)\tSpeed 18.0 samples/s\tData 0.039s (0.044s)\tLoss 0.00074 (0.00061)\tAccuracy 0.757 (0.635)\n",
      "Epoch: [0][12500/14785]\tTime 0.436s (0.452s)\tSpeed 18.3 samples/s\tData 0.042s (0.045s)\tLoss 0.00042 (0.00061)\tAccuracy 0.663 (0.635)\n",
      "Epoch: [0][13000/14785]\tTime 0.484s (0.452s)\tSpeed 16.5 samples/s\tData 0.050s (0.045s)\tLoss 0.00049 (0.00061)\tAccuracy 0.537 (0.635)\n",
      "Epoch: [0][13500/14785]\tTime 0.463s (0.453s)\tSpeed 17.3 samples/s\tData 0.056s (0.045s)\tLoss 0.00058 (0.00060)\tAccuracy 0.583 (0.635)\n",
      "Epoch: [0][14000/14785]\tTime 0.461s (0.453s)\tSpeed 17.4 samples/s\tData 0.051s (0.045s)\tLoss 0.00039 (0.00060)\tAccuracy 0.600 (0.635)\n",
      "Epoch: [0][14500/14785]\tTime 0.461s (0.453s)\tSpeed 17.3 samples/s\tData 0.048s (0.045s)\tLoss 0.00084 (0.00060)\tAccuracy 0.589 (0.635)\n",
      "Model: \"pose_res_net\"\n",
      "_________________________________________________________________\n",
      "Layer (type)                 Output Shape              Param #   \n",
      "=================================================================\n",
      "conv2d (Conv2D)              multiple                  9472      \n",
      "_________________________________________________________________\n",
      "batch_normalization (BatchNo multiple                  256       \n",
      "_________________________________________________________________\n",
      "re_lu (ReLU)                 multiple                  0         \n",
      "_________________________________________________________________\n",
      "max_pooling2d (MaxPooling2D) multiple                  0         \n",
      "_________________________________________________________________\n",
      "sequential_1 (Sequential)    (8, 64, 64, 256)          218624    \n",
      "_________________________________________________________________\n",
      "sequential_3 (Sequential)    (8, 32, 32, 512)          1226752   \n",
      "_________________________________________________________________\n",
      "sequential_5 (Sequential)    (8, 16, 16, 1024)         7118848   \n",
      "_________________________________________________________________\n",
      "sequential_7 (Sequential)    (8, 8, 8, 2048)           14987264  \n",
      "_________________________________________________________________\n",
      "sequential_8 (Sequential)    (8, 64, 64, 256)          10488832  \n",
      "_________________________________________________________________\n",
      "conv2d_53 (Conv2D)           multiple                  4369      \n",
      "=================================================================\n",
      "Total params: 34,054,417\n",
      "Trainable params: 33,954,321\n",
      "Non-trainable params: 100,096\n",
      "_________________________________________________________________\n",
      "Epoch: [1][0/14785]\tTime 0.458s (0.458s)\tSpeed 17.5 samples/s\tData 0.043s (0.043s)\tLoss 0.00047 (0.00047)\tAccuracy 0.611 (0.611)\n",
      "Epoch: [1][500/14785]\tTime 0.416s (0.433s)\tSpeed 19.2 samples/s\tData 0.037s (0.042s)\tLoss 0.00054 (0.00057)\tAccuracy 0.642 (0.628)\n",
      "Epoch: [1][1000/14785]\tTime 0.432s (0.434s)\tSpeed 18.5 samples/s\tData 0.040s (0.042s)\tLoss 0.00046 (0.00057)\tAccuracy 0.597 (0.633)\n",
      "Epoch: [1][1500/14785]\tTime 0.441s (0.436s)\tSpeed 18.1 samples/s\tData 0.037s (0.042s)\tLoss 0.00036 (0.00057)\tAccuracy 0.667 (0.636)\n",
      "Epoch: [1][2000/14785]\tTime 0.425s (0.437s)\tSpeed 18.8 samples/s\tData 0.033s (0.042s)\tLoss 0.00065 (0.00057)\tAccuracy 0.694 (0.636)\n",
      "Epoch: [1][2500/14785]\tTime 0.425s (0.438s)\tSpeed 18.8 samples/s\tData 0.040s (0.042s)\tLoss 0.00031 (0.00058)\tAccuracy 0.593 (0.634)\n",
      "Epoch: [1][3000/14785]\tTime 0.456s (0.439s)\tSpeed 17.6 samples/s\tData 0.041s (0.042s)\tLoss 0.00039 (0.00057)\tAccuracy 0.607 (0.634)\n"
     ]
    },
    {
     "name": "stdout",
     "output_type": "stream",
     "text": [
      "Epoch: [1][3500/14785]\tTime 0.444s (0.439s)\tSpeed 18.0 samples/s\tData 0.040s (0.042s)\tLoss 0.00099 (0.00057)\tAccuracy 0.663 (0.633)\n",
      "Epoch: [1][4000/14785]\tTime 0.452s (0.440s)\tSpeed 17.7 samples/s\tData 0.049s (0.042s)\tLoss 0.00070 (0.00057)\tAccuracy 0.640 (0.633)\n",
      "Epoch: [1][4500/14785]\tTime 0.413s (0.440s)\tSpeed 19.3 samples/s\tData 0.031s (0.042s)\tLoss 0.00046 (0.00057)\tAccuracy 0.671 (0.632)\n",
      "Epoch: [1][5000/14785]\tTime 0.433s (0.441s)\tSpeed 18.5 samples/s\tData 0.032s (0.042s)\tLoss 0.00032 (0.00056)\tAccuracy 0.629 (0.632)\n",
      "Epoch: [1][5500/14785]\tTime 0.437s (0.441s)\tSpeed 18.3 samples/s\tData 0.045s (0.042s)\tLoss 0.00052 (0.00056)\tAccuracy 0.539 (0.632)\n",
      "Epoch: [1][6000/14785]\tTime 0.458s (0.441s)\tSpeed 17.5 samples/s\tData 0.041s (0.042s)\tLoss 0.00055 (0.00056)\tAccuracy 0.666 (0.632)\n",
      "Epoch: [1][6500/14785]\tTime 0.437s (0.442s)\tSpeed 18.3 samples/s\tData 0.041s (0.043s)\tLoss 0.00028 (0.00056)\tAccuracy 0.590 (0.632)\n",
      "Epoch: [1][7000/14785]\tTime 0.439s (0.442s)\tSpeed 18.2 samples/s\tData 0.036s (0.043s)\tLoss 0.00072 (0.00056)\tAccuracy 0.574 (0.633)\n",
      "Epoch: [1][7500/14785]\tTime 0.443s (0.442s)\tSpeed 18.1 samples/s\tData 0.042s (0.043s)\tLoss 0.00050 (0.00056)\tAccuracy 0.656 (0.632)\n",
      "Epoch: [1][8000/14785]\tTime 0.443s (0.442s)\tSpeed 18.1 samples/s\tData 0.038s (0.043s)\tLoss 0.00061 (0.00056)\tAccuracy 0.629 (0.632)\n",
      "Epoch: [1][8500/14785]\tTime 0.448s (0.442s)\tSpeed 17.9 samples/s\tData 0.041s (0.043s)\tLoss 0.00052 (0.00056)\tAccuracy 0.632 (0.632)\n",
      "Epoch: [1][9000/14785]\tTime 0.426s (0.442s)\tSpeed 18.8 samples/s\tData 0.038s (0.043s)\tLoss 0.00071 (0.00056)\tAccuracy 0.550 (0.631)\n",
      "Epoch: [1][9500/14785]\tTime 0.437s (0.441s)\tSpeed 18.3 samples/s\tData 0.037s (0.042s)\tLoss 0.00067 (0.00055)\tAccuracy 0.550 (0.631)\n",
      "Epoch: [1][10000/14785]\tTime 0.438s (0.441s)\tSpeed 18.3 samples/s\tData 0.041s (0.042s)\tLoss 0.00038 (0.00056)\tAccuracy 0.600 (0.631)\n",
      "Epoch: [1][10500/14785]\tTime 0.439s (0.441s)\tSpeed 18.2 samples/s\tData 0.035s (0.042s)\tLoss 0.00031 (0.00056)\tAccuracy 0.686 (0.631)\n",
      "Epoch: [1][11000/14785]\tTime 0.456s (0.441s)\tSpeed 17.5 samples/s\tData 0.046s (0.042s)\tLoss 0.00073 (0.00056)\tAccuracy 0.621 (0.630)\n",
      "Epoch: [1][11500/14785]\tTime 0.436s (0.441s)\tSpeed 18.4 samples/s\tData 0.041s (0.042s)\tLoss 0.00051 (0.00056)\tAccuracy 0.652 (0.630)\n",
      "Epoch: [1][12000/14785]\tTime 0.439s (0.441s)\tSpeed 18.2 samples/s\tData 0.042s (0.042s)\tLoss 0.00083 (0.00055)\tAccuracy 0.637 (0.630)\n",
      "Epoch: [1][12500/14785]\tTime 0.445s (0.441s)\tSpeed 18.0 samples/s\tData 0.040s (0.042s)\tLoss 0.00041 (0.00055)\tAccuracy 0.653 (0.630)\n",
      "Epoch: [1][13000/14785]\tTime 0.436s (0.441s)\tSpeed 18.3 samples/s\tData 0.047s (0.042s)\tLoss 0.00054 (0.00055)\tAccuracy 0.597 (0.630)\n",
      "Epoch: [1][13500/14785]\tTime 0.453s (0.441s)\tSpeed 17.6 samples/s\tData 0.054s (0.042s)\tLoss 0.00056 (0.00055)\tAccuracy 0.674 (0.630)\n",
      "Epoch: [1][14000/14785]\tTime 0.428s (0.441s)\tSpeed 18.7 samples/s\tData 0.049s (0.042s)\tLoss 0.00041 (0.00055)\tAccuracy 0.707 (0.630)\n",
      "Epoch: [1][14500/14785]\tTime 0.444s (0.441s)\tSpeed 18.0 samples/s\tData 0.043s (0.042s)\tLoss 0.00072 (0.00055)\tAccuracy 0.677 (0.629)\n"
     ]
    },
    {
     "ename": "KeyboardInterrupt",
     "evalue": "",
     "output_type": "error",
     "traceback": [
      "\u001b[0;31m---------------------------------------------------------------------------\u001b[0m",
      "\u001b[0;31mKeyboardInterrupt\u001b[0m                         Traceback (most recent call last)",
      "\u001b[0;32m<ipython-input-5-f755a4ea1132>\u001b[0m in \u001b[0;36m<module>\u001b[0;34m\u001b[0m\n\u001b[1;32m      2\u001b[0m \u001b[0;32mfor\u001b[0m \u001b[0mi\u001b[0m \u001b[0;32min\u001b[0m \u001b[0mrange\u001b[0m\u001b[0;34m(\u001b[0m\u001b[0mepoch\u001b[0m\u001b[0;34m)\u001b[0m\u001b[0;34m:\u001b[0m\u001b[0;34m\u001b[0m\u001b[0;34m\u001b[0m\u001b[0m\n\u001b[1;32m      3\u001b[0m     \u001b[0mtrain\u001b[0m\u001b[0;34m(\u001b[0m\u001b[0mcfg\u001b[0m\u001b[0;34m,\u001b[0m\u001b[0mdata_gen\u001b[0m\u001b[0;34m,\u001b[0m\u001b[0mmodel\u001b[0m\u001b[0;34m,\u001b[0m\u001b[0mJointsMSELoss\u001b[0m\u001b[0;34m,\u001b[0m\u001b[0moptimizer\u001b[0m\u001b[0;34m,\u001b[0m\u001b[0mi\u001b[0m\u001b[0;34m)\u001b[0m\u001b[0;34m\u001b[0m\u001b[0;34m\u001b[0m\u001b[0m\n\u001b[0;32m----> 4\u001b[0;31m     \u001b[0mvalidate\u001b[0m\u001b[0;34m(\u001b[0m\u001b[0mcfg\u001b[0m\u001b[0;34m,\u001b[0m\u001b[0mdata_gen\u001b[0m\u001b[0;34m,\u001b[0m\u001b[0mmodel\u001b[0m\u001b[0;34m,\u001b[0m\u001b[0mJointsMSELoss\u001b[0m\u001b[0;34m)\u001b[0m\u001b[0;34m\u001b[0m\u001b[0;34m\u001b[0m\u001b[0m\n\u001b[0m\u001b[1;32m      5\u001b[0m \u001b[0;34m\u001b[0m\u001b[0m\n",
      "\u001b[0;32m~/gsoc/Darkpose_Tensorflow/lib/core/dark_function.py\u001b[0m in \u001b[0;36mvalidate\u001b[0;34m(config, val_loader, model, criterion, output_dir, tb_log_dir, writer_dict)\u001b[0m\n\u001b[1;32m    137\u001b[0m                 \u001b[0moutput_flipped\u001b[0m \u001b[0;34m=\u001b[0m \u001b[0moutputs_flipped\u001b[0m\u001b[0;34m\u001b[0m\u001b[0;34m\u001b[0m\u001b[0m\n\u001b[1;32m    138\u001b[0m \u001b[0;34m\u001b[0m\u001b[0m\n\u001b[0;32m--> 139\u001b[0;31m             output_flipped = tf.reverse(output_flipped,\n\u001b[0m\u001b[1;32m    140\u001b[0m                                        val_dataset.flip_pairs)\n\u001b[1;32m    141\u001b[0m             \u001b[0moutput_flipped\u001b[0m \u001b[0;34m=\u001b[0m \u001b[0moutput_flipped\u001b[0m\u001b[0;34m.\u001b[0m\u001b[0mnumpy\u001b[0m\u001b[0;34m(\u001b[0m\u001b[0;34m)\u001b[0m\u001b[0;34m\u001b[0m\u001b[0;34m\u001b[0m\u001b[0m\n",
      "\u001b[0;32m~/gsoc/Darkpose_Tensorflow/lib/core/evaluation.py\u001b[0m in \u001b[0;36maccuracy\u001b[0;34m(output, target, hm_type, thr)\u001b[0m\n\u001b[1;32m     84\u001b[0m \u001b[0;34m\u001b[0m\u001b[0m\n\u001b[1;32m     85\u001b[0m     \u001b[0midx\u001b[0m \u001b[0;34m=\u001b[0m \u001b[0mlist\u001b[0m\u001b[0;34m(\u001b[0m\u001b[0mrange\u001b[0m\u001b[0;34m(\u001b[0m\u001b[0moutput\u001b[0m\u001b[0;34m.\u001b[0m\u001b[0mshape\u001b[0m\u001b[0;34m[\u001b[0m\u001b[0;36m3\u001b[0m\u001b[0;34m]\u001b[0m\u001b[0;34m)\u001b[0m\u001b[0;34m)\u001b[0m\u001b[0;34m\u001b[0m\u001b[0;34m\u001b[0m\u001b[0m\n\u001b[0;32m---> 86\u001b[0;31m     \u001b[0mnorm\u001b[0m \u001b[0;34m=\u001b[0m \u001b[0;36m1.0\u001b[0m\u001b[0;34m\u001b[0m\u001b[0;34m\u001b[0m\u001b[0m\n\u001b[0m\u001b[1;32m     87\u001b[0m     \u001b[0;32mif\u001b[0m \u001b[0mhm_type\u001b[0m \u001b[0;34m==\u001b[0m \u001b[0;34m'gaussian'\u001b[0m\u001b[0;34m:\u001b[0m\u001b[0;34m\u001b[0m\u001b[0;34m\u001b[0m\u001b[0m\n\u001b[1;32m     88\u001b[0m         \u001b[0mpred\u001b[0m\u001b[0;34m,\u001b[0m \u001b[0m_\u001b[0m \u001b[0;34m=\u001b[0m \u001b[0mget_max_preds\u001b[0m\u001b[0;34m(\u001b[0m\u001b[0moutput\u001b[0m\u001b[0;34m)\u001b[0m\u001b[0;34m\u001b[0m\u001b[0;34m\u001b[0m\u001b[0m\n",
      "\u001b[0;32m~/gsoc/Darkpose_Tensorflow/lib/core/evaluation.py\u001b[0m in \u001b[0;36mcalc_dists\u001b[0;34m(preds, target, normalize)\u001b[0m\n\u001b[1;32m     40\u001b[0m                 \u001b[0;31m# normed_preds = tf.cast(normed_preds ,np.float32)\u001b[0m\u001b[0;34m\u001b[0m\u001b[0;34m\u001b[0m\u001b[0;34m\u001b[0m\u001b[0m\n\u001b[1;32m     41\u001b[0m                 \u001b[0;31m# normed_targets = tf.cast(normed_targets ,np.float32)\u001b[0m\u001b[0;34m\u001b[0m\u001b[0;34m\u001b[0m\u001b[0;34m\u001b[0m\u001b[0m\n\u001b[0;32m---> 42\u001b[0;31m                 \u001b[0;31m# normed_preds=normed_preds.numpy()\u001b[0m\u001b[0;34m\u001b[0m\u001b[0;34m\u001b[0m\u001b[0;34m\u001b[0m\u001b[0m\n\u001b[0m\u001b[1;32m     43\u001b[0m                 \u001b[0;31m# normed_targets = normed_targets.numpy()\u001b[0m\u001b[0;34m\u001b[0m\u001b[0;34m\u001b[0m\u001b[0;34m\u001b[0m\u001b[0m\n\u001b[1;32m     44\u001b[0m                 \u001b[0mnorm_values\u001b[0m\u001b[0;34m,\u001b[0m\u001b[0mnorm_values1\u001b[0m \u001b[0;34m=\u001b[0m \u001b[0mtf\u001b[0m\u001b[0;34m.\u001b[0m\u001b[0mlinalg\u001b[0m\u001b[0;34m.\u001b[0m\u001b[0mnormalize\u001b[0m\u001b[0;34m(\u001b[0m\u001b[0mtf\u001b[0m\u001b[0;34m.\u001b[0m\u001b[0mmath\u001b[0m\u001b[0;34m.\u001b[0m\u001b[0msubtract\u001b[0m\u001b[0;34m(\u001b[0m\u001b[0mnormed_preds\u001b[0m\u001b[0;34m,\u001b[0m \u001b[0mnormed_targets\u001b[0m\u001b[0;34m)\u001b[0m\u001b[0;34m)\u001b[0m\u001b[0;34m\u001b[0m\u001b[0;34m\u001b[0m\u001b[0m\n",
      "\u001b[0;32m~/anaconda3/envs/gsoc/lib/python3.7/site-packages/tensorflow/python/ops/array_ops.py\u001b[0m in \u001b[0;36m_SliceHelperVar\u001b[0;34m(var, slice_spec)\u001b[0m\n\u001b[1;32m   1292\u001b[0m   \"\"\"\n\u001b[1;32m   1293\u001b[0m \u001b[0;34m\u001b[0m\u001b[0m\n\u001b[0;32m-> 1294\u001b[0;31m   \u001b[0;32mreturn\u001b[0m \u001b[0m_slice_helper\u001b[0m\u001b[0;34m(\u001b[0m\u001b[0mvar\u001b[0m\u001b[0;34m.\u001b[0m\u001b[0mvalue\u001b[0m\u001b[0;34m(\u001b[0m\u001b[0;34m)\u001b[0m\u001b[0;34m,\u001b[0m \u001b[0mslice_spec\u001b[0m\u001b[0;34m,\u001b[0m \u001b[0mvar\u001b[0m\u001b[0;34m)\u001b[0m\u001b[0;34m\u001b[0m\u001b[0;34m\u001b[0m\u001b[0m\n\u001b[0m\u001b[1;32m   1295\u001b[0m \u001b[0;34m\u001b[0m\u001b[0m\n\u001b[1;32m   1296\u001b[0m \u001b[0;34m\u001b[0m\u001b[0m\n",
      "\u001b[0;32m~/anaconda3/envs/gsoc/lib/python3.7/site-packages/tensorflow/python/util/dispatch.py\u001b[0m in \u001b[0;36mwrapper\u001b[0;34m(*args, **kwargs)\u001b[0m\n\u001b[1;32m    204\u001b[0m     \u001b[0;34m\"\"\"Call target, and fall back on dispatchers if there is a TypeError.\"\"\"\u001b[0m\u001b[0;34m\u001b[0m\u001b[0;34m\u001b[0m\u001b[0m\n\u001b[1;32m    205\u001b[0m     \u001b[0;32mtry\u001b[0m\u001b[0;34m:\u001b[0m\u001b[0;34m\u001b[0m\u001b[0;34m\u001b[0m\u001b[0m\n\u001b[0;32m--> 206\u001b[0;31m       \u001b[0;32mreturn\u001b[0m \u001b[0mtarget\u001b[0m\u001b[0;34m(\u001b[0m\u001b[0;34m*\u001b[0m\u001b[0margs\u001b[0m\u001b[0;34m,\u001b[0m \u001b[0;34m**\u001b[0m\u001b[0mkwargs\u001b[0m\u001b[0;34m)\u001b[0m\u001b[0;34m\u001b[0m\u001b[0;34m\u001b[0m\u001b[0m\n\u001b[0m\u001b[1;32m    207\u001b[0m     \u001b[0;32mexcept\u001b[0m \u001b[0;34m(\u001b[0m\u001b[0mTypeError\u001b[0m\u001b[0;34m,\u001b[0m \u001b[0mValueError\u001b[0m\u001b[0;34m)\u001b[0m\u001b[0;34m:\u001b[0m\u001b[0;34m\u001b[0m\u001b[0;34m\u001b[0m\u001b[0m\n\u001b[1;32m    208\u001b[0m       \u001b[0;31m# Note: convert_to_eager_tensor currently raises a ValueError, not a\u001b[0m\u001b[0;34m\u001b[0m\u001b[0;34m\u001b[0m\u001b[0;34m\u001b[0m\u001b[0m\n",
      "\u001b[0;32m~/anaconda3/envs/gsoc/lib/python3.7/site-packages/tensorflow/python/ops/array_ops.py\u001b[0m in \u001b[0;36m_slice_helper\u001b[0;34m(tensor, slice_spec, var)\u001b[0m\n\u001b[1;32m   1049\u001b[0m         \u001b[0mellipsis_mask\u001b[0m\u001b[0;34m=\u001b[0m\u001b[0mellipsis_mask\u001b[0m\u001b[0;34m,\u001b[0m\u001b[0;34m\u001b[0m\u001b[0;34m\u001b[0m\u001b[0m\n\u001b[1;32m   1050\u001b[0m         \u001b[0mvar\u001b[0m\u001b[0;34m=\u001b[0m\u001b[0mvar\u001b[0m\u001b[0;34m,\u001b[0m\u001b[0;34m\u001b[0m\u001b[0;34m\u001b[0m\u001b[0m\n\u001b[0;32m-> 1051\u001b[0;31m         name=name)\n\u001b[0m\u001b[1;32m   1052\u001b[0m \u001b[0;34m\u001b[0m\u001b[0m\n\u001b[1;32m   1053\u001b[0m \u001b[0;34m\u001b[0m\u001b[0m\n",
      "\u001b[0;32m~/anaconda3/envs/gsoc/lib/python3.7/site-packages/tensorflow/python/util/dispatch.py\u001b[0m in \u001b[0;36mwrapper\u001b[0;34m(*args, **kwargs)\u001b[0m\n\u001b[1;32m    204\u001b[0m     \u001b[0;34m\"\"\"Call target, and fall back on dispatchers if there is a TypeError.\"\"\"\u001b[0m\u001b[0;34m\u001b[0m\u001b[0;34m\u001b[0m\u001b[0m\n\u001b[1;32m    205\u001b[0m     \u001b[0;32mtry\u001b[0m\u001b[0;34m:\u001b[0m\u001b[0;34m\u001b[0m\u001b[0;34m\u001b[0m\u001b[0m\n\u001b[0;32m--> 206\u001b[0;31m       \u001b[0;32mreturn\u001b[0m \u001b[0mtarget\u001b[0m\u001b[0;34m(\u001b[0m\u001b[0;34m*\u001b[0m\u001b[0margs\u001b[0m\u001b[0;34m,\u001b[0m \u001b[0;34m**\u001b[0m\u001b[0mkwargs\u001b[0m\u001b[0;34m)\u001b[0m\u001b[0;34m\u001b[0m\u001b[0;34m\u001b[0m\u001b[0m\n\u001b[0m\u001b[1;32m    207\u001b[0m     \u001b[0;32mexcept\u001b[0m \u001b[0;34m(\u001b[0m\u001b[0mTypeError\u001b[0m\u001b[0;34m,\u001b[0m \u001b[0mValueError\u001b[0m\u001b[0;34m)\u001b[0m\u001b[0;34m:\u001b[0m\u001b[0;34m\u001b[0m\u001b[0;34m\u001b[0m\u001b[0m\n\u001b[1;32m    208\u001b[0m       \u001b[0;31m# Note: convert_to_eager_tensor currently raises a ValueError, not a\u001b[0m\u001b[0;34m\u001b[0m\u001b[0;34m\u001b[0m\u001b[0;34m\u001b[0m\u001b[0m\n",
      "\u001b[0;32m~/anaconda3/envs/gsoc/lib/python3.7/site-packages/tensorflow/python/ops/array_ops.py\u001b[0m in \u001b[0;36mstrided_slice\u001b[0;34m(input_, begin, end, strides, begin_mask, end_mask, ellipsis_mask, new_axis_mask, shrink_axis_mask, var, name)\u001b[0m\n\u001b[1;32m   1221\u001b[0m       \u001b[0mellipsis_mask\u001b[0m\u001b[0;34m=\u001b[0m\u001b[0mellipsis_mask\u001b[0m\u001b[0;34m,\u001b[0m\u001b[0;34m\u001b[0m\u001b[0;34m\u001b[0m\u001b[0m\n\u001b[1;32m   1222\u001b[0m       \u001b[0mnew_axis_mask\u001b[0m\u001b[0;34m=\u001b[0m\u001b[0mnew_axis_mask\u001b[0m\u001b[0;34m,\u001b[0m\u001b[0;34m\u001b[0m\u001b[0;34m\u001b[0m\u001b[0m\n\u001b[0;32m-> 1223\u001b[0;31m       shrink_axis_mask=shrink_axis_mask)\n\u001b[0m\u001b[1;32m   1224\u001b[0m \u001b[0;34m\u001b[0m\u001b[0m\n\u001b[1;32m   1225\u001b[0m   \u001b[0mparent_name\u001b[0m \u001b[0;34m=\u001b[0m \u001b[0mname\u001b[0m\u001b[0;34m\u001b[0m\u001b[0;34m\u001b[0m\u001b[0m\n",
      "\u001b[0;32m~/anaconda3/envs/gsoc/lib/python3.7/site-packages/tensorflow/python/ops/gen_array_ops.py\u001b[0m in \u001b[0;36mstrided_slice\u001b[0;34m(input, begin, end, strides, begin_mask, end_mask, ellipsis_mask, new_axis_mask, shrink_axis_mask, name)\u001b[0m\n\u001b[1;32m  10500\u001b[0m         \u001b[0m_ctx\u001b[0m\u001b[0;34m,\u001b[0m \u001b[0;34m\"StridedSlice\"\u001b[0m\u001b[0;34m,\u001b[0m \u001b[0mname\u001b[0m\u001b[0;34m,\u001b[0m \u001b[0minput\u001b[0m\u001b[0;34m,\u001b[0m \u001b[0mbegin\u001b[0m\u001b[0;34m,\u001b[0m \u001b[0mend\u001b[0m\u001b[0;34m,\u001b[0m \u001b[0mstrides\u001b[0m\u001b[0;34m,\u001b[0m \u001b[0;34m\"begin_mask\"\u001b[0m\u001b[0;34m,\u001b[0m\u001b[0;34m\u001b[0m\u001b[0;34m\u001b[0m\u001b[0m\n\u001b[1;32m  10501\u001b[0m         \u001b[0mbegin_mask\u001b[0m\u001b[0;34m,\u001b[0m \u001b[0;34m\"end_mask\"\u001b[0m\u001b[0;34m,\u001b[0m \u001b[0mend_mask\u001b[0m\u001b[0;34m,\u001b[0m \u001b[0;34m\"ellipsis_mask\"\u001b[0m\u001b[0;34m,\u001b[0m \u001b[0mellipsis_mask\u001b[0m\u001b[0;34m,\u001b[0m\u001b[0;34m\u001b[0m\u001b[0;34m\u001b[0m\u001b[0m\n\u001b[0;32m> 10502\u001b[0;31m         \"new_axis_mask\", new_axis_mask, \"shrink_axis_mask\", shrink_axis_mask)\n\u001b[0m\u001b[1;32m  10503\u001b[0m       \u001b[0;32mreturn\u001b[0m \u001b[0m_result\u001b[0m\u001b[0;34m\u001b[0m\u001b[0;34m\u001b[0m\u001b[0m\n\u001b[1;32m  10504\u001b[0m     \u001b[0;32mexcept\u001b[0m \u001b[0m_core\u001b[0m\u001b[0;34m.\u001b[0m\u001b[0m_NotOkStatusException\u001b[0m \u001b[0;32mas\u001b[0m \u001b[0me\u001b[0m\u001b[0;34m:\u001b[0m\u001b[0;34m\u001b[0m\u001b[0;34m\u001b[0m\u001b[0m\n",
      "\u001b[0;31mKeyboardInterrupt\u001b[0m: "
     ]
    }
   ],
   "source": [
    "epoch=2\n",
    "for i in range(epoch):\n",
    "    train(cfg,data_gen,model,JointsMSELoss,optimizer,i)\n",
    "    validate(cfg,data_gen,model,JointsMSELoss)\n",
    "    \n"
   ]
  },
  {
   "cell_type": "code",
   "execution_count": null,
   "id": "c631d8b5",
   "metadata": {},
   "outputs": [],
   "source": []
  },
  {
   "cell_type": "code",
   "execution_count": null,
   "id": "8b2a557d",
   "metadata": {},
   "outputs": [],
   "source": []
  },
  {
   "cell_type": "code",
   "execution_count": null,
   "id": "bdc245e2",
   "metadata": {},
   "outputs": [],
   "source": []
  },
  {
   "cell_type": "code",
   "execution_count": null,
   "id": "19f056a3",
   "metadata": {},
   "outputs": [],
   "source": []
  },
  {
   "cell_type": "code",
   "execution_count": null,
   "id": "b5098efc",
   "metadata": {},
   "outputs": [],
   "source": []
  },
  {
   "cell_type": "code",
   "execution_count": null,
   "id": "a529fa10",
   "metadata": {},
   "outputs": [],
   "source": []
  },
  {
   "cell_type": "code",
   "execution_count": null,
   "id": "f75556db",
   "metadata": {},
   "outputs": [],
   "source": []
  },
  {
   "cell_type": "code",
   "execution_count": null,
   "id": "594a6629",
   "metadata": {},
   "outputs": [],
   "source": []
  },
  {
   "cell_type": "code",
   "execution_count": null,
   "id": "52d2925e",
   "metadata": {},
   "outputs": [],
   "source": []
  }
 ],
 "metadata": {
  "kernelspec": {
   "display_name": "Python 3",
   "language": "python",
   "name": "python3"
  },
  "language_info": {
   "codemirror_mode": {
    "name": "ipython",
    "version": 3
   },
   "file_extension": ".py",
   "mimetype": "text/x-python",
   "name": "python",
   "nbconvert_exporter": "python",
   "pygments_lexer": "ipython3",
   "version": "3.7.9"
  }
 },
 "nbformat": 4,
 "nbformat_minor": 5
}
