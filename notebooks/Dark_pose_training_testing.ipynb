{
 "cells": [
  {
   "cell_type": "code",
   "execution_count": null,
   "id": "f105b2e2",
   "metadata": {},
   "outputs": [],
   "source": []
  },
  {
   "cell_type": "code",
   "execution_count": 1,
   "id": "8ccd7188",
   "metadata": {},
   "outputs": [],
   "source": [
    "\n",
    "import numpy as np\n",
    "\n",
    "import tensorflow as tf\n",
    "import _init_paths\n",
    "\n",
    "import logging\n",
    "\n"
   ]
  },
  {
   "cell_type": "code",
   "execution_count": null,
   "id": "40a405d2",
   "metadata": {},
   "outputs": [],
   "source": []
  },
  {
   "cell_type": "code",
   "execution_count": 2,
   "id": "a4b7e4c9",
   "metadata": {},
   "outputs": [],
   "source": [
    "from data import coco\n",
    "from data import coco_data\n",
    "from config import cfg\n",
    "from core.loss import JointsMSELoss,JointsOHKMMSELoss,dice_loss\n",
    "from models import pose_resnet\n",
    "from core.evaluation import accuracy\n",
    "from utils.utils import get_optimizer\n",
    "\n",
    "from core.dark_function import train,validate\n"
   ]
  },
  {
   "cell_type": "code",
   "execution_count": 3,
   "id": "e7c0ef1e",
   "metadata": {},
   "outputs": [],
   "source": [
    "\n",
    "cfg.DATA_DIR=\"/home/chandy/coco_data/data/coco/\"\n",
    "cfg.OUTPUT_DIR='/home/chandy/out/'\n",
    "cfg.LOG_DIR='/home/chandy/log/'\n",
    "cfg.DATASET.ROOT=\"/home/chandy/coco_data/data/coco/\"\n",
    "cfg.DATASET.TEST_SET=\"val\"\n",
    "cfg.DATASET.TRAIN_SET=\"train\""
   ]
  },
  {
   "cell_type": "code",
   "execution_count": 4,
   "id": "89616572",
   "metadata": {},
   "outputs": [
    {
     "name": "stdout",
     "output_type": "stream",
     "text": [
      "loading annotations into memory...\n",
      "Done (t=4.97s)\n",
      "creating index...\n",
      "index created!\n",
      "loading annotations into memory...\n",
      "Done (t=5.05s)\n",
      "creating index...\n",
      "index created!\n",
      "loading annotations into memory...\n",
      "Done (t=0.14s)\n",
      "creating index...\n",
      "index created!\n",
      "loading annotations into memory...\n",
      "Done (t=0.14s)\n",
      "creating index...\n",
      "index created!\n"
     ]
    }
   ],
   "source": [
    "\n",
    "train_set = coco.COCODataset(\n",
    "    cfg, cfg.DATASET.ROOT, cfg.DATASET.TRAIN_SET, True\n",
    "    )\n",
    "\n",
    "valid_set = coco.COCODataset(\n",
    "    cfg, cfg.DATASET.ROOT, cfg.DATASET.TEST_SET, False\n",
    "    )"
   ]
  },
  {
   "cell_type": "code",
   "execution_count": 5,
   "id": "3079ad00",
   "metadata": {},
   "outputs": [
    {
     "name": "stderr",
     "output_type": "stream",
     "text": [
      "/home/chandy/anaconda3/envs/gsoc/lib/python3.7/site-packages/tensorflow/python/keras/optimizer_v2/optimizer_v2.py:375: UserWarning: The `lr` argument is deprecated, use `learning_rate` instead.\n",
      "  \"The `lr` argument is deprecated, use `learning_rate` instead.\")\n"
     ]
    }
   ],
   "source": [
    "\n",
    "model= pose_resnet.get_pose_net(\n",
    "        cfg, is_train=True\n",
    "    )\n",
    "\n",
    "optimizer = get_optimizer(cfg, model)\n",
    "\n",
    "model.build(input_shape=train_set[0][0].shape)\n",
    "\n",
    "# model.compile(loss=JointsMSELoss, optimizer=optimizer,run_eagerly=True)\n",
    "# model.summary()\n",
    "# model.fit(data_gen,epochs=2)"
   ]
  },
  {
   "cell_type": "code",
   "execution_count": null,
   "id": "31424f2e",
   "metadata": {},
   "outputs": [
    {
     "name": "stdout",
     "output_type": "stream",
     "text": [
      "Test: [0/156]\tTime 2.522 (2.522)\tLoss 0.0035 (0.0035)\tAccuracy 0.623 (0.623)\n"
     ]
    }
   ],
   "source": [
    "epoch=2\n",
    "for i in range(epoch):\n",
    "#     train(cfg,train_set,model,JointsMSELoss,optimizer,i)\n",
    "    validate(cfg,valid_set,model,JointsMSELoss)\n",
    "    \n"
   ]
  },
  {
   "cell_type": "code",
   "execution_count": null,
   "id": "bd6eb67f",
   "metadata": {},
   "outputs": [],
   "source": []
  },
  {
   "cell_type": "code",
   "execution_count": null,
   "id": "0456fdb5",
   "metadata": {},
   "outputs": [],
   "source": []
  },
  {
   "cell_type": "code",
   "execution_count": null,
   "id": "0bae888d",
   "metadata": {},
   "outputs": [],
   "source": []
  },
  {
   "cell_type": "code",
   "execution_count": null,
   "id": "c82a7523",
   "metadata": {},
   "outputs": [],
   "source": []
  },
  {
   "cell_type": "code",
   "execution_count": null,
   "id": "30b7b512",
   "metadata": {},
   "outputs": [],
   "source": []
  },
  {
   "cell_type": "code",
   "execution_count": null,
   "id": "cf8cd21e",
   "metadata": {},
   "outputs": [],
   "source": []
  },
  {
   "cell_type": "code",
   "execution_count": null,
   "id": "a0246a5b",
   "metadata": {},
   "outputs": [],
   "source": []
  },
  {
   "cell_type": "code",
   "execution_count": null,
   "id": "97c45f2c",
   "metadata": {},
   "outputs": [],
   "source": []
  },
  {
   "cell_type": "code",
   "execution_count": null,
   "id": "57df2f5b",
   "metadata": {},
   "outputs": [],
   "source": []
  }
 ],
 "metadata": {
  "kernelspec": {
   "display_name": "Python 3",
   "language": "python",
   "name": "python3"
  },
  "language_info": {
   "codemirror_mode": {
    "name": "ipython",
    "version": 3
   },
   "file_extension": ".py",
   "mimetype": "text/x-python",
   "name": "python",
   "nbconvert_exporter": "python",
   "pygments_lexer": "ipython3",
   "version": "3.7.9"
  }
 },
 "nbformat": 4,
 "nbformat_minor": 5
}
