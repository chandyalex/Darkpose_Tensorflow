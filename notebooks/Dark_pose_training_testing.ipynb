{
 "cells": [
  {
   "cell_type": "code",
   "execution_count": null,
   "id": "a2e57dbc",
   "metadata": {},
   "outputs": [],
   "source": []
  },
  {
   "cell_type": "code",
   "execution_count": 1,
   "id": "5e859af9",
   "metadata": {},
   "outputs": [],
   "source": [
    "\n",
    "import numpy as np\n",
    "\n",
    "import tensorflow as tf\n",
    "import _init_paths\n",
    "\n",
    "import logging\n",
    "\n"
   ]
  },
  {
   "cell_type": "code",
   "execution_count": null,
   "id": "584f2e80",
   "metadata": {},
   "outputs": [],
   "source": []
  },
  {
   "cell_type": "code",
   "execution_count": 2,
   "id": "64d68c57",
   "metadata": {},
   "outputs": [],
   "source": [
    "from data import coco\n",
    "from data import coco_data\n",
    "from config import cfg\n",
    "from core.loss import JointsMSELoss,JointsOHKMMSELoss,dice_loss\n",
    "from models import pose_resnet\n",
    "from core.evaluation import accuracy\n",
    "from utils.utils import get_optimizer\n",
    "\n",
    "from core.dark_function import train,validate\n"
   ]
  },
  {
   "cell_type": "code",
   "execution_count": 3,
   "id": "6741852c",
   "metadata": {},
   "outputs": [],
   "source": [
    "\n",
    "cfg.DATA_DIR=\"/home/chandy/coco_data/data/coco/\"\n",
    "cfg.OUTPUT_DIR='/home/chandy/out/'\n",
    "cfg.LOG_DIR='/home/chandy/log/'\n",
    "cfg.DATASET.ROOT=\"/home/chandy/coco_data/data/coco/\"\n",
    "cfg.DATASET.TEST_SET=\"val\"\n",
    "cfg.DATASET.TRAIN_SET=\"train\""
   ]
  },
  {
   "cell_type": "code",
   "execution_count": 4,
   "id": "cd274801",
   "metadata": {},
   "outputs": [
    {
     "name": "stdout",
     "output_type": "stream",
     "text": [
      "loading annotations into memory...\n",
      "Done (t=4.76s)\n",
      "creating index...\n",
      "index created!\n",
      "loading annotations into memory...\n",
      "Done (t=4.82s)\n",
      "creating index...\n",
      "index created!\n",
      "loading annotations into memory...\n",
      "Done (t=0.14s)\n",
      "creating index...\n",
      "index created!\n",
      "loading annotations into memory...\n",
      "Done (t=0.14s)\n",
      "creating index...\n",
      "index created!\n"
     ]
    }
   ],
   "source": [
    "\n",
    "train_set = coco.COCODataset(\n",
    "    cfg, cfg.DATASET.ROOT, cfg.DATASET.TRAIN_SET, True\n",
    "    )\n",
    "\n",
    "valid_set = coco.COCODataset(\n",
    "    cfg, cfg.DATASET.ROOT, cfg.DATASET.TEST_SET, False\n",
    "    )"
   ]
  },
  {
   "cell_type": "code",
   "execution_count": 5,
   "id": "bfdb6d17",
   "metadata": {},
   "outputs": [
    {
     "name": "stderr",
     "output_type": "stream",
     "text": [
      "/home/chandy/anaconda3/envs/gsoc/lib/python3.7/site-packages/tensorflow/python/keras/optimizer_v2/optimizer_v2.py:375: UserWarning: The `lr` argument is deprecated, use `learning_rate` instead.\n",
      "  \"The `lr` argument is deprecated, use `learning_rate` instead.\")\n"
     ]
    }
   ],
   "source": [
    "\n",
    "model= pose_resnet.get_pose_net(\n",
    "        cfg, is_train=True\n",
    "    )\n",
    "\n",
    "optimizer = get_optimizer(cfg, model)\n",
    "\n",
    "model.build(input_shape=train_set[0][0].shape)\n",
    "\n",
    "# model.compile(loss=JointsMSELoss, optimizer=optimizer,run_eagerly=True)\n",
    "# model.summary()\n",
    "# model.fit(data_gen,epochs=2)"
   ]
  },
  {
   "cell_type": "code",
   "execution_count": null,
   "id": "558cc484",
   "metadata": {},
   "outputs": [
    {
     "name": "stdout",
     "output_type": "stream",
     "text": [
      "Model: \"pose_res_net\"\n",
      "_________________________________________________________________\n",
      "Layer (type)                 Output Shape              Param #   \n",
      "=================================================================\n",
      "conv2d (Conv2D)              multiple                  9472      \n",
      "_________________________________________________________________\n",
      "batch_normalization (BatchNo multiple                  256       \n",
      "_________________________________________________________________\n",
      "re_lu (ReLU)                 multiple                  0         \n",
      "_________________________________________________________________\n",
      "max_pooling2d (MaxPooling2D) multiple                  0         \n",
      "_________________________________________________________________\n",
      "sequential_1 (Sequential)    (32, 32, 24, 256)         218624    \n",
      "_________________________________________________________________\n",
      "sequential_3 (Sequential)    (32, 16, 12, 512)         1226752   \n",
      "_________________________________________________________________\n",
      "sequential_5 (Sequential)    (32, 8, 6, 1024)          7118848   \n",
      "_________________________________________________________________\n",
      "sequential_7 (Sequential)    (32, 4, 3, 2048)          14987264  \n",
      "_________________________________________________________________\n",
      "sequential_8 (Sequential)    (32, 32, 24, 256)         10488832  \n",
      "_________________________________________________________________\n",
      "conv2d_53 (Conv2D)           multiple                  4369      \n",
      "=================================================================\n",
      "Total params: 34,054,417\n",
      "Trainable params: 33,954,321\n",
      "Non-trainable params: 100,096\n",
      "_________________________________________________________________\n",
      "Epoch: [0][0/3696]\tTime 3.078s (3.078s)\tSpeed 10.4 samples/s\tData 0.144s (0.144s)\tLoss 0.00262 (0.00262)\tAccuracy 0.678 (0.678)\n",
      "Epoch: [0][500/3696]\tTime 1.022s (1.085s)\tSpeed 31.3 samples/s\tData 0.125s (0.158s)\tLoss 0.00328 (0.00293)\tAccuracy 0.570 (0.647)\n",
      "Epoch: [0][1000/3696]\tTime 1.019s (1.084s)\tSpeed 31.4 samples/s\tData 0.151s (0.158s)\tLoss 0.00279 (0.00283)\tAccuracy 0.596 (0.633)\n",
      "Epoch: [0][1500/3696]\tTime 1.024s (1.069s)\tSpeed 31.2 samples/s\tData 0.147s (0.156s)\tLoss 0.00173 (0.00277)\tAccuracy 0.604 (0.626)\n",
      "Epoch: [0][2000/3696]\tTime 1.104s (1.066s)\tSpeed 29.0 samples/s\tData 0.180s (0.156s)\tLoss 0.00302 (0.00273)\tAccuracy 0.625 (0.622)\n",
      "Epoch: [0][2500/3696]\tTime 1.068s (1.074s)\tSpeed 30.0 samples/s\tData 0.143s (0.157s)\tLoss 0.00237 (0.00272)\tAccuracy 0.612 (0.621)\n",
      "Epoch: [0][3000/3696]\tTime 1.090s (1.076s)\tSpeed 29.4 samples/s\tData 0.165s (0.157s)\tLoss 0.00331 (0.00270)\tAccuracy 0.560 (0.620)\n"
     ]
    }
   ],
   "source": [
    "epoch=2\n",
    "for i in range(epoch):\n",
    "    train(cfg,train_set,model,JointsMSELoss,optimizer,i)\n",
    "    validate(cfg,valid_set,model,JointsMSELoss)\n",
    "    \n"
   ]
  },
  {
   "cell_type": "code",
   "execution_count": null,
   "id": "1849ffe3",
   "metadata": {},
   "outputs": [],
   "source": []
  },
  {
   "cell_type": "code",
   "execution_count": null,
   "id": "30ca4f24",
   "metadata": {},
   "outputs": [],
   "source": []
  },
  {
   "cell_type": "code",
   "execution_count": null,
   "id": "3b8e20bf",
   "metadata": {},
   "outputs": [],
   "source": []
  },
  {
   "cell_type": "code",
   "execution_count": null,
   "id": "5f60be9b",
   "metadata": {},
   "outputs": [],
   "source": []
  },
  {
   "cell_type": "code",
   "execution_count": null,
   "id": "52eeab31",
   "metadata": {},
   "outputs": [],
   "source": []
  },
  {
   "cell_type": "code",
   "execution_count": null,
   "id": "ac15248c",
   "metadata": {},
   "outputs": [],
   "source": []
  },
  {
   "cell_type": "code",
   "execution_count": null,
   "id": "825e1ddf",
   "metadata": {},
   "outputs": [],
   "source": []
  },
  {
   "cell_type": "code",
   "execution_count": null,
   "id": "8549252e",
   "metadata": {},
   "outputs": [],
   "source": []
  },
  {
   "cell_type": "code",
   "execution_count": null,
   "id": "33368d92",
   "metadata": {},
   "outputs": [],
   "source": []
  }
 ],
 "metadata": {
  "kernelspec": {
   "display_name": "Python 3",
   "language": "python",
   "name": "python3"
  },
  "language_info": {
   "codemirror_mode": {
    "name": "ipython",
    "version": 3
   },
   "file_extension": ".py",
   "mimetype": "text/x-python",
   "name": "python",
   "nbconvert_exporter": "python",
   "pygments_lexer": "ipython3",
   "version": "3.7.9"
  }
 },
 "nbformat": 4,
 "nbformat_minor": 5
}
